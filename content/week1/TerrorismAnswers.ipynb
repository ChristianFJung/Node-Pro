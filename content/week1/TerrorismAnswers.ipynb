{
 "cells": [
  {
   "cell_type": "markdown",
   "metadata": {},
   "source": [
    "Hi Everyone, \n",
    "\n",
    "Please note that there is many different ways to be able to solve these problems. Do not feel like it needs to be done exactly the same way. "
   ]
  },
  {
   "cell_type": "code",
   "execution_count": 1,
   "metadata": {},
   "outputs": [],
   "source": [
    "import pandas as pd\n",
    "\n",
    "df = pd.read_csv(\"http://nodepro.hackcville.com/week1/data/terrorism.csv\", low_memory=False)\n",
    "colsIwant = [\"iyear\",\"imonth\",\"iday\", \"country_txt\",\"attacktype1_txt\",\"suicide\",\"targtype1_txt\"]\n",
    "df = df[colsIwant]"
   ]
  },
  {
   "cell_type": "markdown",
   "metadata": {},
   "source": [
    "# 1. What is the most frequent type of attack in the United States?"
   ]
  },
  {
   "cell_type": "code",
   "execution_count": 2,
   "metadata": {},
   "outputs": [
    {
     "data": {
      "text/plain": [
       "Bombing/Explosion    1271\n",
       "Name: attacktype1_txt, dtype: int64"
      ]
     },
     "execution_count": 2,
     "metadata": {},
     "output_type": "execute_result"
    }
   ],
   "source": [
    "us_attacks = df.loc[df['country_txt'] == 'United States', 'attacktype1_txt'] #boolean indexing and subsetting via .loc\n",
    "us_attacks.value_counts().nlargest(1)"
   ]
  },
  {
   "cell_type": "markdown",
   "metadata": {},
   "source": [
    "**Alternative methods**"
   ]
  },
  {
   "cell_type": "code",
   "execution_count": 3,
   "metadata": {},
   "outputs": [
    {
     "data": {
      "text/plain": [
       "attacktype1_txt\n",
       "Bombing/Explosion    1271\n",
       "Name: attacktype1_txt, dtype: int64"
      ]
     },
     "execution_count": 3,
     "metadata": {},
     "output_type": "execute_result"
    }
   ],
   "source": [
    "us_data = df[df['country_txt'] == \"United States\"]\n",
    "us_attacks_count = us_data['attacktype1_txt'].groupby(us_data['attacktype1_txt']).count()\n",
    "us_attacks_count.sort_values(ascending = False)[:1]"
   ]
  },
  {
   "cell_type": "code",
   "execution_count": 4,
   "metadata": {},
   "outputs": [
    {
     "data": {
      "text/plain": [
       "attacktype1_txt\n",
       "Bombing/Explosion    1271\n",
       "Name: attacktype1_txt, dtype: int64"
      ]
     },
     "execution_count": 4,
     "metadata": {},
     "output_type": "execute_result"
    }
   ],
   "source": [
    "all_countries_attacks = df.groupby(['country_txt', 'attacktype1_txt'])['attacktype1_txt'].count()\n",
    "all_countries_attacks.loc['United States'].nlargest(1)"
   ]
  },
  {
   "cell_type": "markdown",
   "metadata": {},
   "source": [
    "# 2. Who is targeted the most in Japan?"
   ]
  },
  {
   "cell_type": "code",
   "execution_count": 5,
   "metadata": {},
   "outputs": [
    {
     "data": {
      "text/plain": [
       "Government (General)    62\n",
       "Name: targtype1_txt, dtype: int64"
      ]
     },
     "execution_count": 5,
     "metadata": {},
     "output_type": "execute_result"
    }
   ],
   "source": [
    "jpn_targets = df.loc[df['country_txt'] == 'Japan', 'targtype1_txt']\n",
    "jpn_targets.value_counts().nlargest(1)"
   ]
  },
  {
   "cell_type": "markdown",
   "metadata": {},
   "source": [
    "**Alternative methods**"
   ]
  },
  {
   "cell_type": "code",
   "execution_count": 6,
   "metadata": {},
   "outputs": [
    {
     "data": {
      "text/plain": [
       "targtype1_txt\n",
       "Government (General)    62\n",
       "Name: targtype1_txt, dtype: int64"
      ]
     },
     "execution_count": 6,
     "metadata": {},
     "output_type": "execute_result"
    }
   ],
   "source": [
    "jpn_data = df[df['country_txt'] == \"Japan\"]\n",
    "jpn_targets_count = jpn_data['targtype1_txt'].groupby(jpn_data['targtype1_txt']).count()\n",
    "jpn_targets_count.sort_values(ascending = False)[:1]"
   ]
  },
  {
   "cell_type": "markdown",
   "metadata": {},
   "source": [
    "# 3. How many Bombing/Explosions are there in 1974?"
   ]
  },
  {
   "cell_type": "code",
   "execution_count": 7,
   "metadata": {},
   "outputs": [
    {
     "data": {
      "text/plain": [
       "285"
      ]
     },
     "execution_count": 7,
     "metadata": {},
     "output_type": "execute_result"
    }
   ],
   "source": [
    "criterion1 = df['iyear'] == 1974 #each criterion variable is a boolean Series\n",
    "criterion2 = df['attacktype1_txt'] == 'Bombing/Explosion'\n",
    "df.loc[criterion1 & criterion2, 'attacktype1_txt'].count()"
   ]
  },
  {
   "cell_type": "markdown",
   "metadata": {},
   "source": [
    "**Alternative methods**"
   ]
  },
  {
   "cell_type": "code",
   "execution_count": 8,
   "metadata": {},
   "outputs": [
    {
     "data": {
      "text/plain": [
       "285"
      ]
     },
     "execution_count": 8,
     "metadata": {},
     "output_type": "execute_result"
    }
   ],
   "source": [
    "df_1974 = df[df['iyear'] == 1974]\n",
    "df_1974_bomb = df_1974[df_1974['attacktype1_txt'] == 'Bombing/Explosion']\n",
    "df_1974_bomb['attacktype1_txt'].count()"
   ]
  },
  {
   "cell_type": "code",
   "execution_count": 9,
   "metadata": {},
   "outputs": [
    {
     "data": {
      "text/plain": [
       "285"
      ]
     },
     "execution_count": 9,
     "metadata": {},
     "output_type": "execute_result"
    }
   ],
   "source": [
    "all_years_counts = df['attacktype1_txt'].groupby([df['iyear'], df['attacktype1_txt']]).count()\n",
    "all_years_counts.loc[1974, 'Bombing/Explosion']"
   ]
  }
 ],
 "metadata": {
  "kernelspec": {
   "display_name": "Python 3",
   "language": "python",
   "name": "python3"
  },
  "language_info": {
   "codemirror_mode": {
    "name": "ipython",
    "version": 3
   },
   "file_extension": ".py",
   "mimetype": "text/x-python",
   "name": "python",
   "nbconvert_exporter": "python",
   "pygments_lexer": "ipython3",
   "version": "3.7.4"
  }
 },
 "nbformat": 4,
 "nbformat_minor": 4
}
