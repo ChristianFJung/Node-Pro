{
 "cells": [
  {
   "cell_type": "markdown",
   "metadata": {},
   "source": [
    "This class is not focused on teaching visualization. However, visualisation is a useful tool to have in your toolbox. So with your group, we are going to spend 10 minutes practicing visualization. "
   ]
  },
  {
   "cell_type": "markdown",
   "metadata": {},
   "source": [
    "----\n",
    "\n",
    "\n",
    "\n"
   ]
  },
  {
   "cell_type": "markdown",
   "metadata": {},
   "source": [
    "First, let's import our csv. (Import the necessary libraries to do this)\n",
    "\n",
    "http://nodepro.hackcville.com/week2/data/recent-grads.csv\n"
   ]
  },
  {
   "cell_type": "code",
   "execution_count": 5,
   "metadata": {},
   "outputs": [],
   "source": [
    "# your code for importing here\n",
    "\n",
    "\n",
    "#"
   ]
  },
  {
   "cell_type": "code",
   "execution_count": 2,
   "metadata": {},
   "outputs": [],
   "source": [
    "#print out the dataframe here\n",
    "\n",
    "\n",
    "#"
   ]
  },
  {
   "cell_type": "markdown",
   "metadata": {},
   "source": [
    "My favorite visualization library is seaborn, there is a ton avaible but for consitency sake, I'll teach everything in seaborn. Seaborn is built on top of another popular graphing library matplotlib\n",
    "\n",
    "You can import it doing `import seaborn as sns`.\n",
    "\n",
    "Last week, I told you one of my favorite functions was seaborn's count plot. Look up the documentation for it and give me a countplot of   major category. "
   ]
  },
  {
   "cell_type": "code",
   "execution_count": 18,
   "metadata": {},
   "outputs": [
    {
     "data": {
      "text/plain": [
       "<Figure size 4320x2304 with 0 Axes>"
      ]
     },
     "execution_count": 18,
     "metadata": {},
     "output_type": "execute_result"
    },
    {
     "data": {
      "text/plain": [
       "<Figure size 4320x2304 with 0 Axes>"
      ]
     },
     "metadata": {},
     "output_type": "display_data"
    }
   ],
   "source": [
    "#just run this cell\n",
    "from matplotlib import pyplot as plt\n",
    "\n",
    "plt.figure(figsize=(60,32))"
   ]
  },
  {
   "cell_type": "code",
   "execution_count": 4,
   "metadata": {},
   "outputs": [],
   "source": [
    "# import seaborn and add the countplot\n",
    "\n",
    "\n",
    "\n",
    "#"
   ]
  },
  {
   "cell_type": "markdown",
   "metadata": {},
   "source": [
    "---------\n",
    "\n",
    "Next, plot share of Women vs Median as a scatter plot (look up documentation for seaborn scatter)"
   ]
  },
  {
   "cell_type": "code",
   "execution_count": 5,
   "metadata": {},
   "outputs": [],
   "source": [
    "#scatterplot code goes here\n",
    "\n",
    "\n",
    "\n",
    "#"
   ]
  },
  {
   "cell_type": "markdown",
   "metadata": {},
   "source": [
    "The following is matplotlib code, this can be combined with seaborn to make good looking graphs quickly. Add these lines with your scatterplot command.\n",
    "\n",
    "\n",
    "`plt.title(\"Occupational Sex Segregation and Salary\")`\n",
    "\n",
    "`plt.xlabel(\"Percentage of men in major\")`\n",
    "\n",
    "`plt.ylabel(\"Median Wage, dollars\")`"
   ]
  },
  {
   "cell_type": "markdown",
   "metadata": {},
   "source": [
    "-----\n",
    "\n",
    "Finally, look up the documentation for plt.title, make the title bold and change the font size to 16"
   ]
  },
  {
   "cell_type": "code",
   "execution_count": null,
   "metadata": {},
   "outputs": [],
   "source": [
    "#\n",
    "\n",
    "\n",
    "\n",
    "\n",
    "#"
   ]
  },
  {
   "cell_type": "markdown",
   "metadata": {},
   "source": [
    "**Once you are done, tag (@) Christian in your group's slack channel to let him know you are done.**"
   ]
  },
  {
   "cell_type": "code",
   "execution_count": null,
   "metadata": {},
   "outputs": [],
   "source": []
  }
 ],
 "metadata": {
  "kernelspec": {
   "display_name": "Python 3",
   "language": "python",
   "name": "python3"
  },
  "language_info": {
   "codemirror_mode": {
    "name": "ipython",
    "version": 3
   },
   "file_extension": ".py",
   "mimetype": "text/x-python",
   "name": "python",
   "nbconvert_exporter": "python",
   "pygments_lexer": "ipython3",
   "version": "3.7.4"
  }
 },
 "nbformat": 4,
 "nbformat_minor": 2
}
