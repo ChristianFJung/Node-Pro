{
 "cells": [
  {
   "cell_type": "markdown",
   "metadata": {
    "colab_type": "text",
    "id": "PnLyeDemqsgZ"
   },
   "source": [
    "Thanks to Ishaan Dey for help with this lesson.\n",
    "\n",
    "# Introduction to APIs"
   ]
  },
  {
   "cell_type": "markdown",
   "metadata": {
    "colab_type": "text",
    "id": "EVj4dknaqj_p"
   },
   "source": [
    "What is an API?\n",
    "\n",
    "- API stands for Application Programming Interface. APIs are a great way for your program to interface with other applications to get data <br>\n",
    "- APIs aren't some magical thing that all websites have. The developers of every website may or may not choose to build and maintain an API that the public can use. <br>\n",
    "- Many popular sites have APIs! Not only is it easier to transfer than say a physical file download, but any updates to the dataset can be accessed directly by the code. <br>\n",
    "- APIs are absolutely essential to know if you are interested in web development or working with web data."
   ]
  },
  {
   "cell_type": "markdown",
   "metadata": {
    "colab_type": "text",
    "id": "mojJwMzuq_ZV"
   },
   "source": [
    "Simple example of an API request to pull randomly generated quotes by Kanye: https://api.kanye.rest/\n",
    "\n",
    "<br> An API response can be returned in multiple forms, particularly JSON responses (JavaScript Object Notation)\n",
    "<br> For our plebian purposes, JSON can be thought of as a dictionary of dictionaries & lists\n"
   ]
  },
  {
   "cell_type": "code",
   "execution_count": 1,
   "metadata": {
    "colab": {
     "base_uri": "https://localhost:8080/",
     "height": 34
    },
    "colab_type": "code",
    "executionInfo": {
     "elapsed": 1123,
     "status": "ok",
     "timestamp": 1581882635802,
     "user": {
      "displayName": "Ishaan Dey",
      "photoUrl": "",
      "userId": "06238985096819983658"
     },
     "user_tz": 300
    },
    "id": "c4pAWFY5rflw",
    "outputId": "cfbe728b-f966-4f07-f5fe-8969e5620d3b"
   },
   "outputs": [
    {
     "data": {
      "text/plain": [
       "''"
      ]
     },
     "execution_count": 1,
     "metadata": {},
     "output_type": "execute_result"
    }
   ],
   "source": [
    "course_roles = {\n",
    "                'node':     {'PL':'ishaan', \n",
    "                             'PC':['ben', 'ruthvik']}, \n",
    "                'node pro':   {'PL':'christian',  \n",
    "                             'PC':['jasmine', 'nithin']}\n",
    "                }\n",
    "\n",
    "# How would we find who the node pro PCs are?\n",
    "# Hint: course_roles is a dictionary of dictionaries\n",
    "\"\"\"\"\"\"\n"
   ]
  },
  {
   "cell_type": "code",
   "execution_count": 2,
   "metadata": {},
   "outputs": [
    {
     "data": {
      "text/plain": [
       "['jasmine', 'nithin']"
      ]
     },
     "execution_count": 2,
     "metadata": {},
     "output_type": "execute_result"
    }
   ],
   "source": [
    "#ur answer goes here\n",
    "course_roles[\"node pro\"]['PC']"
   ]
  },
  {
   "cell_type": "markdown",
   "metadata": {
    "colab_type": "text",
    "id": "xXmiC5nLsx7_"
   },
   "source": [
    "REST API responses are formatted in the same manner\n"
   ]
  },
  {
   "cell_type": "code",
   "execution_count": 3,
   "metadata": {
    "colab": {},
    "colab_type": "code",
    "id": "0xe4IzO5HikW"
   },
   "outputs": [],
   "source": [
    "# Necessary imports\n",
    "import requests\n",
    "import json"
   ]
  },
  {
   "cell_type": "code",
   "execution_count": 4,
   "metadata": {
    "colab": {
     "base_uri": "https://localhost:8080/",
     "height": 51
    },
    "colab_type": "code",
    "executionInfo": {
     "elapsed": 1783,
     "status": "ok",
     "timestamp": 1581882636518,
     "user": {
      "displayName": "Ishaan Dey",
      "photoUrl": "",
      "userId": "06238985096819983658"
     },
     "user_tz": 300
    },
    "id": "wm3fE7WgtC3c",
    "outputId": "4528ff33-2106-4746-cf6e-b385001cb118"
   },
   "outputs": [
    {
     "name": "stdout",
     "output_type": "stream",
     "text": [
      "<Response [200]>\n",
      "<class 'requests.models.Response'>\n"
     ]
    }
   ],
   "source": [
    "request = requests.get('https://api.kanye.rest/')\n",
    "print(request)\n",
    "print(type(request))"
   ]
  },
  {
   "cell_type": "markdown",
   "metadata": {
    "colab_type": "text",
    "id": "LgkGFcN3tcSa"
   },
   "source": [
    "The request object we obtained by using the .get() method returned an object of  `class 'requests.models.Response'`. \n",
    "<br> To extract the content, use the `.json()` function. The corresponding object should now be a python dictionary.\n"
   ]
  },
  {
   "cell_type": "code",
   "execution_count": 5,
   "metadata": {
    "colab": {
     "base_uri": "https://localhost:8080/",
     "height": 51
    },
    "colab_type": "code",
    "executionInfo": {
     "elapsed": 1965,
     "status": "ok",
     "timestamp": 1581882636714,
     "user": {
      "displayName": "Ishaan Dey",
      "photoUrl": "",
      "userId": "06238985096819983658"
     },
     "user_tz": 300
    },
    "id": "H2blpvTtt5Ae",
    "outputId": "5a23e8d3-53fa-4473-b7b6-9849753ad95f"
   },
   "outputs": [
    {
     "name": "stdout",
     "output_type": "stream",
     "text": [
      "{'quote': \"George Bush doesn't care about black people\"}\n",
      "<class 'dict'>\n"
     ]
    }
   ],
   "source": [
    "request = requests.get('https://api.kanye.rest/').json()\n",
    "print(request)\n",
    "print(type(request))"
   ]
  },
  {
   "cell_type": "code",
   "execution_count": 6,
   "metadata": {
    "colab": {
     "base_uri": "https://localhost:8080/",
     "height": 51
    },
    "colab_type": "code",
    "executionInfo": {
     "elapsed": 1962,
     "status": "ok",
     "timestamp": 1581882636722,
     "user": {
      "displayName": "Ishaan Dey",
      "photoUrl": "",
      "userId": "06238985096819983658"
     },
     "user_tz": 300
    },
    "id": "p8HcEfcBuJaT",
    "outputId": "bf03e332-1b34-40fa-c9cf-9e71918b6133"
   },
   "outputs": [],
   "source": [
    "# How would we pull out the content of quote as a string? (And how would we check it is indeed a str?)\n",
    "\n"
   ]
  },
  {
   "cell_type": "code",
   "execution_count": 7,
   "metadata": {},
   "outputs": [
    {
     "name": "stdout",
     "output_type": "stream",
     "text": [
      "George Bush doesn't care about black people\n",
      "<class 'str'>\n"
     ]
    }
   ],
   "source": [
    "#\n",
    "print(request['quote'])\n",
    "print(type(request['quote']))"
   ]
  },
  {
   "cell_type": "markdown",
   "metadata": {
    "colab_type": "text",
    "id": "WMuVZLkF6wtS"
   },
   "source": [
    "# Node EDA with APIs\n"
   ]
  },
  {
   "cell_type": "markdown",
   "metadata": {
    "colab_type": "text",
    "id": "dubEqvgX66eT"
   },
   "source": [
    "Imagine if we there was some dataset sitting on some server in some far off distant land. In other words, NOT a cute little CSV sitting on our laptop. How would we go about importing that data?\n",
    "\n",
    "APIs makes that data import process super easy. Just as we had a pandas function `.read_csv()` to read in data seperated by commas, we can use another function `.read_json()` to read in that funky dictionary format we explored earlier.\n"
   ]
  },
  {
   "cell_type": "markdown",
   "metadata": {
    "colab_type": "text",
    "id": "q3aU_msD86g5"
   },
   "source": [
    "For this exercise, we'll use the welcome survey data from week 1. "
   ]
  },
  {
   "cell_type": "code",
   "execution_count": 8,
   "metadata": {
    "colab": {},
    "colab_type": "code",
    "id": "5tSL3TcB9Wml"
   },
   "outputs": [],
   "source": [
    "# The classic imports\n",
    "import pandas as pd\n",
    "import numpy as np\n",
    "\n",
    "import seaborn as sns\n",
    "import matplotlib.pyplot as plt"
   ]
  },
  {
   "cell_type": "code",
   "execution_count": 9,
   "metadata": {},
   "outputs": [
    {
     "name": "stdout",
     "output_type": "stream",
     "text": [
      "[{'First Name': 'Alex', 'Last Name': 'Stankey', 'When is your birthday?': '9/22/1999', 'How old are you?': 20, 'Year at UVA': 4, \"What's your intended  Major and/ or minor or focus of study?\": 'Commerce; CS', 'CS Experience': '3-4', 'Data Science Experience': '3-4', 'Favorite Class?': 'CS1110', 'What are your career goals?': 'Data Scientist', 'What clubs/ extracurriculars do you participate in?': 'Men’s Rowing', 'What does a typical Friday night look like for you? (pre and post corona)': 'Asleep by 10pm (pre & post corona)', 'Are/were you involved in greek life or an academic fraternity or sorority?': 'No', 'Is there a specific kind of data that you are interested in analyzing?': 'Finance'}, {'First Name': 'Andreas', 'Last Name': 'Damm', 'When is your birthday?': '11/15/1999', 'How old are you?': 20, 'Year at UVA': 3, \"What's your intended  Major and/ or minor or focus of study?\": 'Aerospace Engineering, CS Minor', 'CS Experience': '3-4', 'Data Science Experience': 'Less than 1 year', 'Favorite Class?': 'Intro to AI', 'What are your career goals?': 'A fulfilling job with a positive impact', 'What clubs/ extracurriculars do you participate in?': 'Undergrad Research', 'What does a typical Friday night look like for you? (pre and post corona)': 'Playing drinking games with my roommates', 'Are/were you involved in greek life or an academic fraternity or sorority?': 'No', 'Is there a specific kind of data that you are interested in analyzing?': 'climate, chess, religious, political'}, {'First Name': 'Andrew', 'Last Name': 'Lin', 'When is your birthday?': '2/4/2000', 'How old are you?': 20, 'Year at UVA': 3, \"What's your intended  Major and/ or minor or focus of study?\": 'Computer Science/Statistics', 'CS Experience': '3-4', 'Data Science Experience': '1-2 years', 'Favorite Class?': 'Machine Learning', 'What are your career goals?': 'Something in Data Science', 'What clubs/ extracurriculars do you participate in?': 'ML Club, DSAC, Weightlifting', 'What does a typical Friday night look like for you? (pre and post corona)': 'Experimenting in the kitchen or going out', 'Are/were you involved in greek life or an academic fraternity or sorority?': 'No', 'Is there a specific kind of data that you are interested in analyzing?': 'Business data'}, {'First Name': 'Chris', 'Last Name': 'Santamaria', 'When is your birthday?': '5/5/2000', 'How old are you?': 20, 'Year at UVA': '3 (but currently taking the semester off)', \"What's your intended  Major and/ or minor or focus of study?\": 'B.S. Computer Science', 'CS Experience': '> 4 years', 'Data Science Experience': 'Less than 1 year', 'Favorite Class?': 'ECON 4444 (AI and the Future of Work)', 'What are your career goals?': \"Definitely something SWE focused, likely at a medium sized company, though I'm open to product management / more high-level roles\", 'What clubs/ extracurriculars do you participate in?': 'HackCville 😬', 'What does a typical Friday night look like for you? (pre and post corona)': 'Lots of staying in and playing Jackbox games with friends (which luckily we can do over Zoom too!)', 'Are/were you involved in greek life or an academic fraternity or sorority?': 'No', 'Is there a specific kind of data that you are interested in analyzing?': 'Large analytics data from product users would be super cool (not sure how available that is)'}, {'First Name': 'Diane', 'Last Name': 'Choi', 'When is your birthday?': '3/17/2000', 'How old are you?': 20, 'Year at UVA': 3, \"What's your intended  Major and/ or minor or focus of study?\": 'Computer Science', 'CS Experience': '1-2 years', 'Data Science Experience': '1-2 years', 'Favorite Class?': 'STAT 1601/1602', 'What are your career goals?': 'Data scientist or software engineer', 'What clubs/ extracurriculars do you participate in?': 'WICS', 'What does a typical Friday night look like for you? (pre and post corona)': 'Hanging out with friends and watching shows/movies', 'Are/were you involved in greek life or an academic fraternity or sorority?': 'No', 'Is there a specific kind of data that you are interested in analyzing?': 'Possibly COVID data'}, {'First Name': 'Eric', 'Last Name': 'Jess', 'When is your birthday?': '7/31/1999', 'How old are you?': 21, 'Year at UVA': 4, \"What's your intended  Major and/ or minor or focus of study?\": 'Systems Engineering & Economics', 'CS Experience': 'Less than 1 year', 'Data Science Experience': '1-2 years', 'Favorite Class?': 'SYS 3034: System Evaluation (data heavy course)', 'What are your career goals?': 'Product Management, Data Science, and/or Management Consulting', 'What clubs/ extracurriculars do you participate in?': 'Club Hockey (active); VCG, SEED (inactive)', 'What does a typical Friday night look like for you? (pre and post corona)': 'Some drinks with friends (pre: >15 friends, post: <15 friends)', 'Are/were you involved in greek life or an academic fraternity or sorority?': 'Delta Kappa Epsilon', 'Is there a specific kind of data that you are interested in analyzing?': 'Climate change data, rideshare data, product/user experience data'}, {'First Name': 'John', 'Last Name': 'Radossich', 'When is your birthday?': '8/3/1998', 'How old are you?': 22, 'Year at UVA': 4, \"What's your intended  Major and/ or minor or focus of study?\": 'Systems Engineering & Statistics', 'CS Experience': 'Less than 1 year', 'Data Science Experience': '3-4', 'Favorite Class?': 'Data Analysis with Python', 'What are your career goals?': 'Data Science and Entrepreneurship', 'What clubs/ extracurriculars do you participate in?': 'HackCville (obviously), Phi Society, UVA Baseball Team', 'What does a typical Friday night look like for you? (pre and post corona)': 'Working at Coupes or hanging out with friends', 'Are/were you involved in greek life or an academic fraternity or sorority?': 'Phi Society', 'Is there a specific kind of data that you are interested in analyzing?': 'Sports Data'}, {'First Name': 'Kristina', 'Last Name': 'Chong', 'When is your birthday?': '1/25/2000', 'How old are you?': 20, 'Year at UVA': 3, \"What's your intended  Major and/ or minor or focus of study?\": 'Major: B.A. CS    Minor: Data Analytics', 'CS Experience': '3-4', 'Data Science Experience': 'Less than 1 year', 'Favorite Class?': 'MATH3350', 'What are your career goals?': 'Data scientist', 'What clubs/ extracurriculars do you participate in?': 'Girls Who Code', 'What does a typical Friday night look like for you? (pre and post corona)': 'Hangout with friends/go to the library (exams)', 'Are/were you involved in greek life or an academic fraternity or sorority?': 'No', 'Is there a specific kind of data that you are interested in analyzing?': 'company data, COVID, university data (census data)'}, {'First Name': 'Lukas', 'Last Name': 'Houpt', 'When is your birthday?': '3/1/1999', 'How old are you?': 21, 'Year at UVA': 3, \"What's your intended  Major and/ or minor or focus of study?\": 'Statistics and Global Sustainability', 'CS Experience': '1-2 years', 'Data Science Experience': '1-2 years', 'Favorite Class?': 'Practice of Data Science', 'What are your career goals?': 'Modeling anything sustainability related. AI and climate change', 'What clubs/ extracurriculars do you participate in?': 'Student Council Sustainability Committee, Cans to Cans committee of Green Greeks', 'What does a typical Friday night look like for you? (pre and post corona)': 'Pre corona: maybe a party; post corona: booling with the boys lowkey', 'Are/were you involved in greek life or an academic fraternity or sorority?': 'KA', 'Is there a specific kind of data that you are interested in analyzing?': 'GIS data / satellite imagery'}, {'First Name': 'Shoaib', 'Last Name': 'Rana', 'When is your birthday?': '12/14/2001', 'How old are you?': 18, 'Year at UVA': 2, \"What's your intended  Major and/ or minor or focus of study?\": 'Commerce and minor in Statistics', 'CS Experience': '1-2 years', 'Data Science Experience': 'Less than 1 year', 'Favorite Class?': 'ECON 2020 - Macroeconomics', 'What are your career goals?': 'IT or Marketing or Data Science at the moment', 'What clubs/ extracurriculars do you participate in?': 'Virginia Finance Institute', 'What does a typical Friday night look like for you? (pre and post corona)': 'Pre - relax, hangout with friends, game night events. Post - CS H.W., sleep early', 'Are/were you involved in greek life or an academic fraternity or sorority?': 'No', 'Is there a specific kind of data that you are interested in analyzing?': 'Data set related to careers - salary, satisfaction, promotion chances and so on and / or Data set related to platforms - YouTube monthly users, hours watched, revenue generated, Facebook average hours spent daily, and so on.'}, {'First Name': 'Taylor', 'Last Name': 'Barmak', 'When is your birthday?': '2/18/2000', 'How old are you?': 20, 'Year at UVA': 3, \"What's your intended  Major and/ or minor or focus of study?\": 'BACS, BS Commerce', 'CS Experience': '> 4 years', 'Data Science Experience': '1-2 years', 'Favorite Class?': 'Linear Algebra', 'What are your career goals?': 'Combine Data Science with Real Estate and achieve financial freedom', 'What clubs/ extracurriculars do you participate in?': 'Club Swim, Chess Club, HackCville', 'What does a typical Friday night look like for you? (pre and post corona)': 'I can grind or have fun', 'Are/were you involved in greek life or an academic fraternity or sorority?': 'No', 'Is there a specific kind of data that you are interested in analyzing?': 'Sports and NLP'}, {'First Name': 'ZHIJUN', 'Last Name': 'CAO', 'When is your birthday?': '10/12/2000', 'How old are you?': 20, 'Year at UVA': 2, \"What's your intended  Major and/ or minor or focus of study?\": 'Math', 'CS Experience': '1-2 years', 'Data Science Experience': '1-2 years', 'Favorite Class?': 'Econ 3010', 'What are your career goals?': 'Continue on Data Science and Software Development', 'What clubs/ extracurriculars do you participate in?': 'Sailing Club', 'What does a typical Friday night look like for you? (pre and post corona)': 'Watch a movie with friends', 'Are/were you involved in greek life or an academic fraternity or sorority?': 'No', 'Is there a specific kind of data that you are interested in analyzing?': 'Economical statistics or some data that have social impact'}, {'First Name': 'Eseyab', 'Last Name': 'Lemma', 'When is your birthday?': '9/15/1996', 'How old are you?': 24, 'Year at UVA': 4, \"What's your intended  Major and/ or minor or focus of study?\": 'Computer Science', 'CS Experience': '3-4', 'Data Science Experience': 'Less than 1 year', 'Favorite Class?': 'Mobile App Development', 'What are your career goals?': \"I'd like to work in software engineering in some capacity\", 'What clubs/ extracurriculars do you participate in?': 'Ultimate Frisbee, Washington Literary Society and Debating Union', 'What does a typical Friday night look like for you? (pre and post corona)': 'Hanging out with friends pre corona, hanging out roommates pst corona', 'Are/were you involved in greek life or an academic fraternity or sorority?': 'No', 'Is there a specific kind of data that you are interested in analyzing?': 'Not currently'}, {'First Name': 'Brandon', 'Last Name': 'Williams', 'When is your birthday?': '6/15/1999', 'How old are you?': 21, 'Year at UVA': 4, \"What's your intended  Major and/ or minor or focus of study?\": 'Computer Science and Statistics', 'CS Experience': '3-4', 'Data Science Experience': 'Less than 1 year', 'Favorite Class?': 'Cloud Computing', 'What are your career goals?': 'Software Engineer in the area of data science! Eventually want to open my own small business as a defense contractor.', 'What clubs/ extracurriculars do you participate in?': 'HackCville and Sigma Alpha Mu', 'What does a typical Friday night look like for you? (pre and post corona)': 'Pre: Work out at gym, hang out with friends, host a pregame, go out to bars\\nPost: Work from home, hang out with housemates, and visit my GF', 'Are/were you involved in greek life or an academic fraternity or sorority?': 'Sigma Alpha Mu', 'Is there a specific kind of data that you are interested in analyzing?': 'A psychology-oriented dataset would be pretty cool. Maybe the intersection of psychology and business (so, perhaps analyzing targeted advertising campaigns?)'}, {'First Name': 'Izzy', 'Last Name': 'Shehan', 'When is your birthday?': '12/4/1999', 'How old are you?': 20, 'Year at UVA': 3, \"What's your intended  Major and/ or minor or focus of study?\": 'Computer Science, minor in french and data science', 'CS Experience': '3-4', 'Data Science Experience': 'Less than 1 year', 'Favorite Class?': 'Machine Learning', 'What are your career goals?': 'work at a startup, help non-profits with data work', 'What clubs/ extracurriculars do you participate in?': 'VASST, data science and analytics club, girls who code', 'What does a typical Friday night look like for you? (pre and post corona)': 'pre -- bars and frats\\npost -- making up drinking games in boylan!', 'Are/were you involved in greek life or an academic fraternity or sorority?': 'Kappa Alpha Theta', 'Is there a specific kind of data that you are interested in analyzing?': 'nope!'}, {'First Name': 'John', 'Last Name': 'Sun', 'When is your birthday?': '12/26/2001', 'How old are you?': '18 years old.', 'Year at UVA': 2, \"What's your intended  Major and/ or minor or focus of study?\": 'Statistics, pre-commerce', 'CS Experience': '1-2 years', 'Data Science Experience': '1-2 years', 'Favorite Class?': 'Literature of the South', 'What are your career goals?': 'To have a statistical consulting role in a management consulting firm.', 'What clubs/ extracurriculars do you participate in?': 'UVA Honor Statistical Transparency Working Group, Global Inquirer (IRO), Directing in VAMUN 2020, VISAS', 'What does a typical Friday night look like for you? (pre and post corona)': 'Pre: Touch up some homework, then dinner on the Corner with roommate and/or close friends. \\n\\nPost: Touch up some homework, then fight off thoughts about how that what was holiest and mightiest of all that the world has yet owned has bled to death under our knives: who will wipe this blood off us? What water is there for us to clean ourselves? What festivals of atonement, what sacred games shall we have to invent? \\n\\nThen I watch a bit of Netflix or read a book idk.', 'Are/were you involved in greek life or an academic fraternity or sorority?': 'No', 'Is there a specific kind of data that you are interested in analyzing?': 'Not really.'}]\n",
      "<class 'list'>\n"
     ]
    }
   ],
   "source": [
    "request = requests.get(\"https://nodepro.hackcville.com/week2/data/csvjson.json\").json()\n",
    "print(request)\n",
    "print(type(request))"
   ]
  },
  {
   "cell_type": "code",
   "execution_count": 10,
   "metadata": {
    "colab": {
     "base_uri": "https://localhost:8080/",
     "height": 117
    },
    "colab_type": "code",
    "executionInfo": {
     "elapsed": 2568,
     "status": "ok",
     "timestamp": 1581882637572,
     "user": {
      "displayName": "Ishaan Dey",
      "photoUrl": "",
      "userId": "06238985096819983658"
     },
     "user_tz": 300
    },
    "id": "V4rsoo9K7eE3",
    "outputId": "8f4a6463-ec8a-44e3-e1f4-fa82cfd2ea05"
   },
   "outputs": [
    {
     "data": {
      "text/html": [
       "<div>\n",
       "<style scoped>\n",
       "    .dataframe tbody tr th:only-of-type {\n",
       "        vertical-align: middle;\n",
       "    }\n",
       "\n",
       "    .dataframe tbody tr th {\n",
       "        vertical-align: top;\n",
       "    }\n",
       "\n",
       "    .dataframe thead th {\n",
       "        text-align: right;\n",
       "    }\n",
       "</style>\n",
       "<table border=\"1\" class=\"dataframe\">\n",
       "  <thead>\n",
       "    <tr style=\"text-align: right;\">\n",
       "      <th></th>\n",
       "      <th>First Name</th>\n",
       "      <th>Last Name</th>\n",
       "      <th>When is your birthday?</th>\n",
       "      <th>How old are you?</th>\n",
       "      <th>Year at UVA</th>\n",
       "      <th>What's your intended  Major and/ or minor or focus of study?</th>\n",
       "      <th>CS Experience</th>\n",
       "      <th>Data Science Experience</th>\n",
       "      <th>Favorite Class?</th>\n",
       "      <th>What are your career goals?</th>\n",
       "      <th>What clubs/ extracurriculars do you participate in?</th>\n",
       "      <th>What does a typical Friday night look like for you? (pre and post corona)</th>\n",
       "      <th>Are/were you involved in greek life or an academic fraternity or sorority?</th>\n",
       "      <th>Is there a specific kind of data that you are interested in analyzing?</th>\n",
       "    </tr>\n",
       "  </thead>\n",
       "  <tbody>\n",
       "    <tr>\n",
       "      <td>0</td>\n",
       "      <td>Alex</td>\n",
       "      <td>Stankey</td>\n",
       "      <td>9/22/1999</td>\n",
       "      <td>20</td>\n",
       "      <td>4</td>\n",
       "      <td>Commerce; CS</td>\n",
       "      <td>3-4</td>\n",
       "      <td>3-4</td>\n",
       "      <td>CS1110</td>\n",
       "      <td>Data Scientist</td>\n",
       "      <td>Men’s Rowing</td>\n",
       "      <td>Asleep by 10pm (pre &amp; post corona)</td>\n",
       "      <td>No</td>\n",
       "      <td>Finance</td>\n",
       "    </tr>\n",
       "    <tr>\n",
       "      <td>1</td>\n",
       "      <td>Andreas</td>\n",
       "      <td>Damm</td>\n",
       "      <td>11/15/1999</td>\n",
       "      <td>20</td>\n",
       "      <td>3</td>\n",
       "      <td>Aerospace Engineering, CS Minor</td>\n",
       "      <td>3-4</td>\n",
       "      <td>Less than 1 year</td>\n",
       "      <td>Intro to AI</td>\n",
       "      <td>A fulfilling job with a positive impact</td>\n",
       "      <td>Undergrad Research</td>\n",
       "      <td>Playing drinking games with my roommates</td>\n",
       "      <td>No</td>\n",
       "      <td>climate, chess, religious, political</td>\n",
       "    </tr>\n",
       "    <tr>\n",
       "      <td>2</td>\n",
       "      <td>Andrew</td>\n",
       "      <td>Lin</td>\n",
       "      <td>2/4/2000</td>\n",
       "      <td>20</td>\n",
       "      <td>3</td>\n",
       "      <td>Computer Science/Statistics</td>\n",
       "      <td>3-4</td>\n",
       "      <td>1-2 years</td>\n",
       "      <td>Machine Learning</td>\n",
       "      <td>Something in Data Science</td>\n",
       "      <td>ML Club, DSAC, Weightlifting</td>\n",
       "      <td>Experimenting in the kitchen or going out</td>\n",
       "      <td>No</td>\n",
       "      <td>Business data</td>\n",
       "    </tr>\n",
       "    <tr>\n",
       "      <td>3</td>\n",
       "      <td>Chris</td>\n",
       "      <td>Santamaria</td>\n",
       "      <td>5/5/2000</td>\n",
       "      <td>20</td>\n",
       "      <td>3 (but currently taking the semester off)</td>\n",
       "      <td>B.S. Computer Science</td>\n",
       "      <td>&gt; 4 years</td>\n",
       "      <td>Less than 1 year</td>\n",
       "      <td>ECON 4444 (AI and the Future of Work)</td>\n",
       "      <td>Definitely something SWE focused, likely at a ...</td>\n",
       "      <td>HackCville 😬</td>\n",
       "      <td>Lots of staying in and playing Jackbox games w...</td>\n",
       "      <td>No</td>\n",
       "      <td>Large analytics data from product users would ...</td>\n",
       "    </tr>\n",
       "    <tr>\n",
       "      <td>4</td>\n",
       "      <td>Diane</td>\n",
       "      <td>Choi</td>\n",
       "      <td>3/17/2000</td>\n",
       "      <td>20</td>\n",
       "      <td>3</td>\n",
       "      <td>Computer Science</td>\n",
       "      <td>1-2 years</td>\n",
       "      <td>1-2 years</td>\n",
       "      <td>STAT 1601/1602</td>\n",
       "      <td>Data scientist or software engineer</td>\n",
       "      <td>WICS</td>\n",
       "      <td>Hanging out with friends and watching shows/mo...</td>\n",
       "      <td>No</td>\n",
       "      <td>Possibly COVID data</td>\n",
       "    </tr>\n",
       "    <tr>\n",
       "      <td>5</td>\n",
       "      <td>Eric</td>\n",
       "      <td>Jess</td>\n",
       "      <td>7/31/1999</td>\n",
       "      <td>21</td>\n",
       "      <td>4</td>\n",
       "      <td>Systems Engineering &amp; Economics</td>\n",
       "      <td>Less than 1 year</td>\n",
       "      <td>1-2 years</td>\n",
       "      <td>SYS 3034: System Evaluation (data heavy course)</td>\n",
       "      <td>Product Management, Data Science, and/or Manag...</td>\n",
       "      <td>Club Hockey (active); VCG, SEED (inactive)</td>\n",
       "      <td>Some drinks with friends (pre: &gt;15 friends, po...</td>\n",
       "      <td>Delta Kappa Epsilon</td>\n",
       "      <td>Climate change data, rideshare data, product/u...</td>\n",
       "    </tr>\n",
       "    <tr>\n",
       "      <td>6</td>\n",
       "      <td>John</td>\n",
       "      <td>Radossich</td>\n",
       "      <td>8/3/1998</td>\n",
       "      <td>22</td>\n",
       "      <td>4</td>\n",
       "      <td>Systems Engineering &amp; Statistics</td>\n",
       "      <td>Less than 1 year</td>\n",
       "      <td>3-4</td>\n",
       "      <td>Data Analysis with Python</td>\n",
       "      <td>Data Science and Entrepreneurship</td>\n",
       "      <td>HackCville (obviously), Phi Society, UVA Baseb...</td>\n",
       "      <td>Working at Coupes or hanging out with friends</td>\n",
       "      <td>Phi Society</td>\n",
       "      <td>Sports Data</td>\n",
       "    </tr>\n",
       "    <tr>\n",
       "      <td>7</td>\n",
       "      <td>Kristina</td>\n",
       "      <td>Chong</td>\n",
       "      <td>1/25/2000</td>\n",
       "      <td>20</td>\n",
       "      <td>3</td>\n",
       "      <td>Major: B.A. CS    Minor: Data Analytics</td>\n",
       "      <td>3-4</td>\n",
       "      <td>Less than 1 year</td>\n",
       "      <td>MATH3350</td>\n",
       "      <td>Data scientist</td>\n",
       "      <td>Girls Who Code</td>\n",
       "      <td>Hangout with friends/go to the library (exams)</td>\n",
       "      <td>No</td>\n",
       "      <td>company data, COVID, university data (census d...</td>\n",
       "    </tr>\n",
       "    <tr>\n",
       "      <td>8</td>\n",
       "      <td>Lukas</td>\n",
       "      <td>Houpt</td>\n",
       "      <td>3/1/1999</td>\n",
       "      <td>21</td>\n",
       "      <td>3</td>\n",
       "      <td>Statistics and Global Sustainability</td>\n",
       "      <td>1-2 years</td>\n",
       "      <td>1-2 years</td>\n",
       "      <td>Practice of Data Science</td>\n",
       "      <td>Modeling anything sustainability related. AI a...</td>\n",
       "      <td>Student Council Sustainability Committee, Cans...</td>\n",
       "      <td>Pre corona: maybe a party; post corona: boolin...</td>\n",
       "      <td>KA</td>\n",
       "      <td>GIS data / satellite imagery</td>\n",
       "    </tr>\n",
       "    <tr>\n",
       "      <td>9</td>\n",
       "      <td>Shoaib</td>\n",
       "      <td>Rana</td>\n",
       "      <td>12/14/2001</td>\n",
       "      <td>18</td>\n",
       "      <td>2</td>\n",
       "      <td>Commerce and minor in Statistics</td>\n",
       "      <td>1-2 years</td>\n",
       "      <td>Less than 1 year</td>\n",
       "      <td>ECON 2020 - Macroeconomics</td>\n",
       "      <td>IT or Marketing or Data Science at the moment</td>\n",
       "      <td>Virginia Finance Institute</td>\n",
       "      <td>Pre - relax, hangout with friends, game night ...</td>\n",
       "      <td>No</td>\n",
       "      <td>Data set related to careers - salary, satisfac...</td>\n",
       "    </tr>\n",
       "    <tr>\n",
       "      <td>10</td>\n",
       "      <td>Taylor</td>\n",
       "      <td>Barmak</td>\n",
       "      <td>2/18/2000</td>\n",
       "      <td>20</td>\n",
       "      <td>3</td>\n",
       "      <td>BACS, BS Commerce</td>\n",
       "      <td>&gt; 4 years</td>\n",
       "      <td>1-2 years</td>\n",
       "      <td>Linear Algebra</td>\n",
       "      <td>Combine Data Science with Real Estate and achi...</td>\n",
       "      <td>Club Swim, Chess Club, HackCville</td>\n",
       "      <td>I can grind or have fun</td>\n",
       "      <td>No</td>\n",
       "      <td>Sports and NLP</td>\n",
       "    </tr>\n",
       "    <tr>\n",
       "      <td>11</td>\n",
       "      <td>ZHIJUN</td>\n",
       "      <td>CAO</td>\n",
       "      <td>10/12/2000</td>\n",
       "      <td>20</td>\n",
       "      <td>2</td>\n",
       "      <td>Math</td>\n",
       "      <td>1-2 years</td>\n",
       "      <td>1-2 years</td>\n",
       "      <td>Econ 3010</td>\n",
       "      <td>Continue on Data Science and Software Development</td>\n",
       "      <td>Sailing Club</td>\n",
       "      <td>Watch a movie with friends</td>\n",
       "      <td>No</td>\n",
       "      <td>Economical statistics or some data that have s...</td>\n",
       "    </tr>\n",
       "    <tr>\n",
       "      <td>12</td>\n",
       "      <td>Eseyab</td>\n",
       "      <td>Lemma</td>\n",
       "      <td>9/15/1996</td>\n",
       "      <td>24</td>\n",
       "      <td>4</td>\n",
       "      <td>Computer Science</td>\n",
       "      <td>3-4</td>\n",
       "      <td>Less than 1 year</td>\n",
       "      <td>Mobile App Development</td>\n",
       "      <td>I'd like to work in software engineering in so...</td>\n",
       "      <td>Ultimate Frisbee, Washington Literary Society ...</td>\n",
       "      <td>Hanging out with friends pre corona, hanging o...</td>\n",
       "      <td>No</td>\n",
       "      <td>Not currently</td>\n",
       "    </tr>\n",
       "    <tr>\n",
       "      <td>13</td>\n",
       "      <td>Brandon</td>\n",
       "      <td>Williams</td>\n",
       "      <td>6/15/1999</td>\n",
       "      <td>21</td>\n",
       "      <td>4</td>\n",
       "      <td>Computer Science and Statistics</td>\n",
       "      <td>3-4</td>\n",
       "      <td>Less than 1 year</td>\n",
       "      <td>Cloud Computing</td>\n",
       "      <td>Software Engineer in the area of data science!...</td>\n",
       "      <td>HackCville and Sigma Alpha Mu</td>\n",
       "      <td>Pre: Work out at gym, hang out with friends, h...</td>\n",
       "      <td>Sigma Alpha Mu</td>\n",
       "      <td>A psychology-oriented dataset would be pretty ...</td>\n",
       "    </tr>\n",
       "    <tr>\n",
       "      <td>14</td>\n",
       "      <td>Izzy</td>\n",
       "      <td>Shehan</td>\n",
       "      <td>12/4/1999</td>\n",
       "      <td>20</td>\n",
       "      <td>3</td>\n",
       "      <td>Computer Science, minor in french and data sci...</td>\n",
       "      <td>3-4</td>\n",
       "      <td>Less than 1 year</td>\n",
       "      <td>Machine Learning</td>\n",
       "      <td>work at a startup, help non-profits with data ...</td>\n",
       "      <td>VASST, data science and analytics club, girls ...</td>\n",
       "      <td>pre -- bars and frats\\npost -- making up drink...</td>\n",
       "      <td>Kappa Alpha Theta</td>\n",
       "      <td>nope!</td>\n",
       "    </tr>\n",
       "    <tr>\n",
       "      <td>15</td>\n",
       "      <td>John</td>\n",
       "      <td>Sun</td>\n",
       "      <td>12/26/2001</td>\n",
       "      <td>18 years old.</td>\n",
       "      <td>2</td>\n",
       "      <td>Statistics, pre-commerce</td>\n",
       "      <td>1-2 years</td>\n",
       "      <td>1-2 years</td>\n",
       "      <td>Literature of the South</td>\n",
       "      <td>To have a statistical consulting role in a man...</td>\n",
       "      <td>UVA Honor Statistical Transparency Working Gro...</td>\n",
       "      <td>Pre: Touch up some homework, then dinner on th...</td>\n",
       "      <td>No</td>\n",
       "      <td>Not really.</td>\n",
       "    </tr>\n",
       "  </tbody>\n",
       "</table>\n",
       "</div>"
      ],
      "text/plain": [
       "   First Name   Last Name When is your birthday? How old are you?  \\\n",
       "0        Alex     Stankey              9/22/1999               20   \n",
       "1     Andreas        Damm             11/15/1999               20   \n",
       "2      Andrew         Lin               2/4/2000               20   \n",
       "3       Chris  Santamaria               5/5/2000               20   \n",
       "4       Diane        Choi              3/17/2000               20   \n",
       "5        Eric        Jess              7/31/1999               21   \n",
       "6        John   Radossich               8/3/1998               22   \n",
       "7    Kristina       Chong              1/25/2000               20   \n",
       "8       Lukas       Houpt               3/1/1999               21   \n",
       "9      Shoaib        Rana             12/14/2001               18   \n",
       "10     Taylor      Barmak              2/18/2000               20   \n",
       "11     ZHIJUN         CAO             10/12/2000               20   \n",
       "12     Eseyab       Lemma              9/15/1996               24   \n",
       "13    Brandon    Williams              6/15/1999               21   \n",
       "14       Izzy      Shehan              12/4/1999               20   \n",
       "15       John         Sun             12/26/2001    18 years old.   \n",
       "\n",
       "                                  Year at UVA  \\\n",
       "0                                           4   \n",
       "1                                           3   \n",
       "2                                           3   \n",
       "3   3 (but currently taking the semester off)   \n",
       "4                                           3   \n",
       "5                                           4   \n",
       "6                                           4   \n",
       "7                                           3   \n",
       "8                                           3   \n",
       "9                                           2   \n",
       "10                                          3   \n",
       "11                                          2   \n",
       "12                                          4   \n",
       "13                                          4   \n",
       "14                                          3   \n",
       "15                                          2   \n",
       "\n",
       "   What's your intended  Major and/ or minor or focus of study?  \\\n",
       "0                                        Commerce; CS             \n",
       "1                     Aerospace Engineering, CS Minor             \n",
       "2                         Computer Science/Statistics             \n",
       "3                               B.S. Computer Science             \n",
       "4                                    Computer Science             \n",
       "5                     Systems Engineering & Economics             \n",
       "6                    Systems Engineering & Statistics             \n",
       "7             Major: B.A. CS    Minor: Data Analytics             \n",
       "8                Statistics and Global Sustainability             \n",
       "9                    Commerce and minor in Statistics             \n",
       "10                                  BACS, BS Commerce             \n",
       "11                                               Math             \n",
       "12                                   Computer Science             \n",
       "13                    Computer Science and Statistics             \n",
       "14  Computer Science, minor in french and data sci...             \n",
       "15                           Statistics, pre-commerce             \n",
       "\n",
       "       CS Experience Data Science Experience  \\\n",
       "0                3-4                     3-4   \n",
       "1                3-4        Less than 1 year   \n",
       "2                3-4               1-2 years   \n",
       "3          > 4 years        Less than 1 year   \n",
       "4          1-2 years               1-2 years   \n",
       "5   Less than 1 year               1-2 years   \n",
       "6   Less than 1 year                     3-4   \n",
       "7                3-4        Less than 1 year   \n",
       "8          1-2 years               1-2 years   \n",
       "9          1-2 years        Less than 1 year   \n",
       "10         > 4 years               1-2 years   \n",
       "11         1-2 years               1-2 years   \n",
       "12               3-4        Less than 1 year   \n",
       "13               3-4        Less than 1 year   \n",
       "14               3-4        Less than 1 year   \n",
       "15         1-2 years               1-2 years   \n",
       "\n",
       "                                    Favorite Class?  \\\n",
       "0                                            CS1110   \n",
       "1                                       Intro to AI   \n",
       "2                                  Machine Learning   \n",
       "3             ECON 4444 (AI and the Future of Work)   \n",
       "4                                    STAT 1601/1602   \n",
       "5   SYS 3034: System Evaluation (data heavy course)   \n",
       "6                         Data Analysis with Python   \n",
       "7                                          MATH3350   \n",
       "8                          Practice of Data Science   \n",
       "9                        ECON 2020 - Macroeconomics   \n",
       "10                                   Linear Algebra   \n",
       "11                                        Econ 3010   \n",
       "12                           Mobile App Development   \n",
       "13                                  Cloud Computing   \n",
       "14                                 Machine Learning   \n",
       "15                          Literature of the South   \n",
       "\n",
       "                          What are your career goals?  \\\n",
       "0                                      Data Scientist   \n",
       "1             A fulfilling job with a positive impact   \n",
       "2                           Something in Data Science   \n",
       "3   Definitely something SWE focused, likely at a ...   \n",
       "4                 Data scientist or software engineer   \n",
       "5   Product Management, Data Science, and/or Manag...   \n",
       "6                   Data Science and Entrepreneurship   \n",
       "7                                      Data scientist   \n",
       "8   Modeling anything sustainability related. AI a...   \n",
       "9       IT or Marketing or Data Science at the moment   \n",
       "10  Combine Data Science with Real Estate and achi...   \n",
       "11  Continue on Data Science and Software Development   \n",
       "12  I'd like to work in software engineering in so...   \n",
       "13  Software Engineer in the area of data science!...   \n",
       "14  work at a startup, help non-profits with data ...   \n",
       "15  To have a statistical consulting role in a man...   \n",
       "\n",
       "   What clubs/ extracurriculars do you participate in?  \\\n",
       "0                                        Men’s Rowing    \n",
       "1                                  Undergrad Research    \n",
       "2                        ML Club, DSAC, Weightlifting    \n",
       "3                                        HackCville 😬    \n",
       "4                                                WICS    \n",
       "5          Club Hockey (active); VCG, SEED (inactive)    \n",
       "6   HackCville (obviously), Phi Society, UVA Baseb...    \n",
       "7                                      Girls Who Code    \n",
       "8   Student Council Sustainability Committee, Cans...    \n",
       "9                          Virginia Finance Institute    \n",
       "10                  Club Swim, Chess Club, HackCville    \n",
       "11                                       Sailing Club    \n",
       "12  Ultimate Frisbee, Washington Literary Society ...    \n",
       "13                      HackCville and Sigma Alpha Mu    \n",
       "14  VASST, data science and analytics club, girls ...    \n",
       "15  UVA Honor Statistical Transparency Working Gro...    \n",
       "\n",
       "   What does a typical Friday night look like for you? (pre and post corona)  \\\n",
       "0                  Asleep by 10pm (pre & post corona)                          \n",
       "1            Playing drinking games with my roommates                          \n",
       "2           Experimenting in the kitchen or going out                          \n",
       "3   Lots of staying in and playing Jackbox games w...                          \n",
       "4   Hanging out with friends and watching shows/mo...                          \n",
       "5   Some drinks with friends (pre: >15 friends, po...                          \n",
       "6       Working at Coupes or hanging out with friends                          \n",
       "7      Hangout with friends/go to the library (exams)                          \n",
       "8   Pre corona: maybe a party; post corona: boolin...                          \n",
       "9   Pre - relax, hangout with friends, game night ...                          \n",
       "10                            I can grind or have fun                          \n",
       "11                         Watch a movie with friends                          \n",
       "12  Hanging out with friends pre corona, hanging o...                          \n",
       "13  Pre: Work out at gym, hang out with friends, h...                          \n",
       "14  pre -- bars and frats\\npost -- making up drink...                          \n",
       "15  Pre: Touch up some homework, then dinner on th...                          \n",
       "\n",
       "   Are/were you involved in greek life or an academic fraternity or sorority?  \\\n",
       "0                                                  No                           \n",
       "1                                                  No                           \n",
       "2                                                  No                           \n",
       "3                                                  No                           \n",
       "4                                                  No                           \n",
       "5                                 Delta Kappa Epsilon                           \n",
       "6                                         Phi Society                           \n",
       "7                                                  No                           \n",
       "8                                                  KA                           \n",
       "9                                                  No                           \n",
       "10                                                 No                           \n",
       "11                                                 No                           \n",
       "12                                                 No                           \n",
       "13                                     Sigma Alpha Mu                           \n",
       "14                                  Kappa Alpha Theta                           \n",
       "15                                                 No                           \n",
       "\n",
       "   Is there a specific kind of data that you are interested in analyzing?  \n",
       "0                                             Finance                      \n",
       "1                climate, chess, religious, political                      \n",
       "2                                       Business data                      \n",
       "3   Large analytics data from product users would ...                      \n",
       "4                                 Possibly COVID data                      \n",
       "5   Climate change data, rideshare data, product/u...                      \n",
       "6                                         Sports Data                      \n",
       "7   company data, COVID, university data (census d...                      \n",
       "8                        GIS data / satellite imagery                      \n",
       "9   Data set related to careers - salary, satisfac...                      \n",
       "10                                     Sports and NLP                      \n",
       "11  Economical statistics or some data that have s...                      \n",
       "12                                      Not currently                      \n",
       "13  A psychology-oriented dataset would be pretty ...                      \n",
       "14                                              nope!                      \n",
       "15                                        Not really.                      "
      ]
     },
     "execution_count": 10,
     "metadata": {},
     "output_type": "execute_result"
    }
   ],
   "source": [
    "df = pd.read_json(\"https://nodepro.hackcville.com/week2/data/csvjson.json\")\n",
    "df"
   ]
  },
  {
   "cell_type": "code",
   "execution_count": 11,
   "metadata": {
    "colab": {
     "base_uri": "https://localhost:8080/",
     "height": 366
    },
    "colab_type": "code",
    "executionInfo": {
     "elapsed": 3018,
     "status": "ok",
     "timestamp": 1581882638073,
     "user": {
      "displayName": "Ishaan Dey",
      "photoUrl": "",
      "userId": "06238985096819983658"
     },
     "user_tz": 300
    },
    "id": "vZuhbepyCfm2",
    "outputId": "a227756a-0ee1-4844-db32-6fec7a814643"
   },
   "outputs": [
    {
     "data": {
      "text/html": [
       "<div>\n",
       "<style scoped>\n",
       "    .dataframe tbody tr th:only-of-type {\n",
       "        vertical-align: middle;\n",
       "    }\n",
       "\n",
       "    .dataframe tbody tr th {\n",
       "        vertical-align: top;\n",
       "    }\n",
       "\n",
       "    .dataframe thead th {\n",
       "        text-align: right;\n",
       "    }\n",
       "</style>\n",
       "<table border=\"1\" class=\"dataframe\">\n",
       "  <thead>\n",
       "    <tr style=\"text-align: right;\">\n",
       "      <th></th>\n",
       "      <th>First Name</th>\n",
       "      <th>Last Name</th>\n",
       "      <th>When is your birthday?</th>\n",
       "      <th>How old are you?</th>\n",
       "      <th>Year at UVA</th>\n",
       "      <th>major_minor</th>\n",
       "      <th>CS Experience</th>\n",
       "      <th>Data Science Experience</th>\n",
       "      <th>Favorite Class?</th>\n",
       "      <th>What are your career goals?</th>\n",
       "      <th>extracurriculars</th>\n",
       "      <th>What does a typical Friday night look like for you? (pre and post corona)</th>\n",
       "      <th>greek</th>\n",
       "      <th>data_interest</th>\n",
       "    </tr>\n",
       "  </thead>\n",
       "  <tbody>\n",
       "    <tr>\n",
       "      <td>5</td>\n",
       "      <td>Eric</td>\n",
       "      <td>Jess</td>\n",
       "      <td>7/31/1999</td>\n",
       "      <td>21</td>\n",
       "      <td>4</td>\n",
       "      <td>Systems Engineering &amp; Economics</td>\n",
       "      <td>Less than 1 year</td>\n",
       "      <td>1-2 years</td>\n",
       "      <td>SYS 3034: System Evaluation (data heavy course)</td>\n",
       "      <td>Product Management, Data Science, and/or Manag...</td>\n",
       "      <td>Club Hockey (active); VCG, SEED (inactive)</td>\n",
       "      <td>Some drinks with friends (pre: &gt;15 friends, po...</td>\n",
       "      <td>Delta Kappa Epsilon</td>\n",
       "      <td>Climate change data, rideshare data, product/u...</td>\n",
       "    </tr>\n",
       "    <tr>\n",
       "      <td>7</td>\n",
       "      <td>Kristina</td>\n",
       "      <td>Chong</td>\n",
       "      <td>1/25/2000</td>\n",
       "      <td>20</td>\n",
       "      <td>3</td>\n",
       "      <td>Major: B.A. CS    Minor: Data Analytics</td>\n",
       "      <td>3-4</td>\n",
       "      <td>Less than 1 year</td>\n",
       "      <td>MATH3350</td>\n",
       "      <td>Data scientist</td>\n",
       "      <td>Girls Who Code</td>\n",
       "      <td>Hangout with friends/go to the library (exams)</td>\n",
       "      <td>No</td>\n",
       "      <td>company data, COVID, university data (census d...</td>\n",
       "    </tr>\n",
       "    <tr>\n",
       "      <td>8</td>\n",
       "      <td>Lukas</td>\n",
       "      <td>Houpt</td>\n",
       "      <td>3/1/1999</td>\n",
       "      <td>21</td>\n",
       "      <td>3</td>\n",
       "      <td>Statistics and Global Sustainability</td>\n",
       "      <td>1-2 years</td>\n",
       "      <td>1-2 years</td>\n",
       "      <td>Practice of Data Science</td>\n",
       "      <td>Modeling anything sustainability related. AI a...</td>\n",
       "      <td>Student Council Sustainability Committee, Cans...</td>\n",
       "      <td>Pre corona: maybe a party; post corona: boolin...</td>\n",
       "      <td>KA</td>\n",
       "      <td>GIS data / satellite imagery</td>\n",
       "    </tr>\n",
       "  </tbody>\n",
       "</table>\n",
       "</div>"
      ],
      "text/plain": [
       "  First Name Last Name When is your birthday? How old are you? Year at UVA  \\\n",
       "5       Eric      Jess              7/31/1999               21           4   \n",
       "7   Kristina     Chong              1/25/2000               20           3   \n",
       "8      Lukas     Houpt               3/1/1999               21           3   \n",
       "\n",
       "                               major_minor     CS Experience  \\\n",
       "5          Systems Engineering & Economics  Less than 1 year   \n",
       "7  Major: B.A. CS    Minor: Data Analytics               3-4   \n",
       "8     Statistics and Global Sustainability         1-2 years   \n",
       "\n",
       "  Data Science Experience                                  Favorite Class?  \\\n",
       "5               1-2 years  SYS 3034: System Evaluation (data heavy course)   \n",
       "7        Less than 1 year                                         MATH3350   \n",
       "8               1-2 years                         Practice of Data Science   \n",
       "\n",
       "                         What are your career goals?  \\\n",
       "5  Product Management, Data Science, and/or Manag...   \n",
       "7                                     Data scientist   \n",
       "8  Modeling anything sustainability related. AI a...   \n",
       "\n",
       "                                    extracurriculars  \\\n",
       "5         Club Hockey (active); VCG, SEED (inactive)   \n",
       "7                                     Girls Who Code   \n",
       "8  Student Council Sustainability Committee, Cans...   \n",
       "\n",
       "  What does a typical Friday night look like for you? (pre and post corona)  \\\n",
       "5  Some drinks with friends (pre: >15 friends, po...                          \n",
       "7     Hangout with friends/go to the library (exams)                          \n",
       "8  Pre corona: maybe a party; post corona: boolin...                          \n",
       "\n",
       "                 greek                                      data_interest  \n",
       "5  Delta Kappa Epsilon  Climate change data, rideshare data, product/u...  \n",
       "7                   No  company data, COVID, university data (census d...  \n",
       "8                   KA                       GIS data / satellite imagery  "
      ]
     },
     "execution_count": 11,
     "metadata": {},
     "output_type": "execute_result"
    }
   ],
   "source": [
    "# Just renaming some of the columns since it was imported from google forms\n",
    "col_names = {'Are/were you involved in greek life or an academic fraternity or sorority?':'greek',\n",
    "             'What clubs/ extracurriculars do you participate in?':'extracurriculars',\n",
    "             df.columns[5]:'major_minor',\n",
    "             df.columns[-1]:'data_interest',\n",
    "             }\n",
    "node = df.rename(columns=col_names)\n",
    "node.sample(3)"
   ]
  },
  {
   "cell_type": "markdown",
   "metadata": {
    "colab_type": "text",
    "id": "0LYfxH019liz"
   },
   "source": [
    "One of the most critical (and most common) tasks performed by a data scientist is called EDA, or *Exploratory Data Analysis*.\n",
    "\n",
    "EDA is really just a quick look at the surface of data, maybe some basic trends or frequencies, all to get a better idea of what the information contained in the dataset looks like."
   ]
  },
  {
   "cell_type": "code",
   "execution_count": 12,
   "metadata": {
    "colab": {
     "base_uri": "https://localhost:8080/",
     "height": 34
    },
    "colab_type": "code",
    "executionInfo": {
     "elapsed": 2923,
     "status": "ok",
     "timestamp": 1581882638074,
     "user": {
      "displayName": "Ishaan Dey",
      "photoUrl": "",
      "userId": "06238985096819983658"
     },
     "user_tz": 300
    },
    "id": "m4dcmkvY9hHw",
    "outputId": "0eef9f75-61f2-4b93-9abe-a4dba0c760c2"
   },
   "outputs": [
    {
     "data": {
      "text/plain": [
       "16"
      ]
     },
     "execution_count": 12,
     "metadata": {},
     "output_type": "execute_result"
    }
   ],
   "source": [
    "# Exercise 1:\n",
    "# How many students are represented in the welcome survey? \n",
    "\"\"\"\"\"\"\n",
    "node.shape[0]"
   ]
  },
  {
   "cell_type": "code",
   "execution_count": 13,
   "metadata": {},
   "outputs": [
    {
     "data": {
      "text/plain": [
       "3-4                 7\n",
       "1-2 years           5\n",
       "Less than 1 year    2\n",
       "> 4 years           2\n",
       "Name: CS Experience, dtype: int64"
      ]
     },
     "execution_count": 13,
     "metadata": {},
     "output_type": "execute_result"
    }
   ],
   "source": [
    "# Exercise 2: \n",
    "# 2a. What's the distrubution of CS Experience?\n",
    "\n",
    "\n",
    "node[\"CS Experience\"].value_counts()"
   ]
  },
  {
   "cell_type": "code",
   "execution_count": 14,
   "metadata": {},
   "outputs": [
    {
     "data": {
      "text/plain": [
       "<matplotlib.axes._subplots.AxesSubplot at 0x7fa4947db390>"
      ]
     },
     "execution_count": 14,
     "metadata": {},
     "output_type": "execute_result"
    },
    {
     "data": {
      "image/png": "[encoded data removed]",
      "text/plain": [
       "<Figure size 432x288 with 1 Axes>"
      ]
     },
     "metadata": {
      "needs_background": "light"
     },
     "output_type": "display_data"
    }
   ],
   "source": [
    "# or\n",
    "sns.countplot(node[\"CS Experience\"])"
   ]
  },
  {
   "cell_type": "code",
   "execution_count": 15,
   "metadata": {
    "colab": {
     "base_uri": "https://localhost:8080/",
     "height": 34
    },
    "colab_type": "code",
    "executionInfo": {
     "elapsed": 2888,
     "status": "ok",
     "timestamp": 1581882638076,
     "user": {
      "displayName": "Ishaan Dey",
      "photoUrl": "",
      "userId": "06238985096819983658"
     },
     "user_tz": 300
    },
    "id": "dIQC5RXP-rm4",
    "outputId": "74ba789a-fec3-40bf-fcff-139c68e74315"
   },
   "outputs": [
    {
     "data": {
      "text/plain": [
       "5"
      ]
     },
     "execution_count": 15,
     "metadata": {},
     "output_type": "execute_result"
    }
   ],
   "source": [
    "# Exercise 2:\n",
    "# 2a. How many students have 1-2 years of CS experience?\n",
    "\"\"\"\"\"\"\n",
    "node[\"CS Experience\"].value_counts()['1-2 years']"
   ]
  },
  {
   "cell_type": "code",
   "execution_count": 16,
   "metadata": {
    "colab": {
     "base_uri": "https://localhost:8080/",
     "height": 34
    },
    "colab_type": "code",
    "executionInfo": {
     "elapsed": 2864,
     "status": "ok",
     "timestamp": 1581882638077,
     "user": {
      "displayName": "Ishaan Dey",
      "photoUrl": "",
      "userId": "06238985096819983658"
     },
     "user_tz": 300
    },
    "id": "zx8zcCmlBmFF",
    "outputId": "b1e8abe1-d38b-41bb-aaad-f2b5aea4d09d"
   },
   "outputs": [
    {
     "data": {
      "text/plain": [
       "''"
      ]
     },
     "execution_count": 16,
     "metadata": {},
     "output_type": "execute_result"
    }
   ],
   "source": [
    "# 2b. Of the students who have 1-2 years of CS exp, how many have are NOT involved in greek life?\n",
    "# Hint: Create a subset based on the first condition, then tackle the second part.\n",
    "\"\"\"\"\"\"\n"
   ]
  },
  {
   "cell_type": "code",
   "execution_count": null,
   "metadata": {},
   "outputs": [],
   "source": []
  },
  {
   "cell_type": "code",
   "execution_count": 17,
   "metadata": {
    "colab": {
     "base_uri": "https://localhost:8080/",
     "height": 51
    },
    "colab_type": "code",
    "executionInfo": {
     "elapsed": 2851,
     "status": "ok",
     "timestamp": 1581882638077,
     "user": {
      "displayName": "Ishaan Dey",
      "photoUrl": "",
      "userId": "06238985096819983658"
     },
     "user_tz": 300
    },
    "id": "2lIrMLaoCHWd",
    "outputId": "58d7f320-b2ae-405b-a681-6594acc815b1"
   },
   "outputs": [
    {
     "data": {
      "text/plain": [
       "''"
      ]
     },
     "execution_count": 17,
     "metadata": {},
     "output_type": "execute_result"
    }
   ],
   "source": [
    "# 2c. There's a few  students who has 3-4 years of CS experience, and have  less than 1  year of data science experience. \n",
    "# What are their  first names?  hit look at the data and realized how messy it is\n",
    "\"\"\"\"\"\"\n"
   ]
  }
 ],
 "metadata": {
  "colab": {
   "collapsed_sections": [],
   "name": "Node Pro API Key",
   "provenance": [
    {
     "file_id": "11-88GoyCPhHhOXc81yLCSwmL0EyiOuGK",
     "timestamp": 1581820893874
    },
    {
     "file_id": "1kdcrnZ31wMA6OOgVAlmWDDAl3CrX4eL_",
     "timestamp": 1578542038604
    },
    {
     "file_id": "1tCb9qRcNSkjQVSXCiRZt4mP4mnK53T8U",
     "timestamp": 1572813125865
    }
   ]
  },
  "kernelspec": {
   "display_name": "Python 3",
   "language": "python",
   "name": "python3"
  },
  "language_info": {
   "codemirror_mode": {
    "name": "ipython",
    "version": 3
   },
   "file_extension": ".py",
   "mimetype": "text/x-python",
   "name": "python",
   "nbconvert_exporter": "python",
   "pygments_lexer": "ipython3",
   "version": "3.7.4"
  }
 },
 "nbformat": 4,
 "nbformat_minor": 1
}
