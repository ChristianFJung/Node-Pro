{
 "cells": [
  {
   "cell_type": "code",
   "execution_count": 6,
   "metadata": {
    "colab": {
     "base_uri": "https://localhost:8080/",
     "height": 117
    },
    "colab_type": "code",
    "executionInfo": {
     "elapsed": 2568,
     "status": "ok",
     "timestamp": 1581882637572,
     "user": {
      "displayName": "Ishaan Dey",
      "photoUrl": "",
      "userId": "06238985096819983658"
     },
     "user_tz": 300
    },
    "id": "V4rsoo9K7eE3",
    "outputId": "8f4a6463-ec8a-44e3-e1f4-fa82cfd2ea05"
   },
   "outputs": [],
   "source": [
    "import pandas as pd \n",
    "import seaborn as sns\n",
    "df = pd.read_json(\"https://nodepro.hackcville.com/week2/data/csvjson.json\")\n",
    "# Just renaming some of the columns since it was imported from google forms\n",
    "col_names = {'Are/were you involved in greek life or an academic fraternity or sorority?':'greek',\n",
    "             'What clubs/ extracurriculars do you participate in?':'extracurriculars',\n",
    "             df.columns[5]:'major_minor',\n",
    "             df.columns[-1]:'data_interest',\n",
    "             }\n",
    "node = df.rename(columns=col_names)\n"
   ]
  },
  {
   "cell_type": "code",
   "execution_count": 7,
   "metadata": {},
   "outputs": [
    {
     "data": {
      "text/plain": [
       "3-4                 7\n",
       "1-2 years           5\n",
       "Less than 1 year    2\n",
       "> 4 years           2\n",
       "Name: CS Experience, dtype: int64"
      ]
     },
     "execution_count": 7,
     "metadata": {},
     "output_type": "execute_result"
    }
   ],
   "source": [
    "# Exercise 2: \n",
    "# 2a. What's the distrubution of CS Experience?\n",
    "\n",
    "\n",
    "node[\"CS Experience\"].value_counts()"
   ]
  },
  {
   "cell_type": "code",
   "execution_count": 8,
   "metadata": {},
   "outputs": [
    {
     "data": {
      "text/plain": [
       "<matplotlib.axes._subplots.AxesSubplot at 0x7fe1548574d0>"
      ]
     },
     "execution_count": 8,
     "metadata": {},
     "output_type": "execute_result"
    },
    {
     "data": {
      "image/png": "[encoded data removed]",
      "text/plain": [
       "<Figure size 432x288 with 1 Axes>"
      ]
     },
     "metadata": {
      "needs_background": "light"
     },
     "output_type": "display_data"
    }
   ],
   "source": [
    "# or\n",
    "sns.countplot(node[\"CS Experience\"])"
   ]
  },
  {
   "cell_type": "code",
   "execution_count": 9,
   "metadata": {
    "colab": {
     "base_uri": "https://localhost:8080/",
     "height": 34
    },
    "colab_type": "code",
    "executionInfo": {
     "elapsed": 2888,
     "status": "ok",
     "timestamp": 1581882638076,
     "user": {
      "displayName": "Ishaan Dey",
      "photoUrl": "",
      "userId": "06238985096819983658"
     },
     "user_tz": 300
    },
    "id": "dIQC5RXP-rm4",
    "outputId": "74ba789a-fec3-40bf-fcff-139c68e74315"
   },
   "outputs": [
    {
     "data": {
      "text/plain": [
       "5"
      ]
     },
     "execution_count": 9,
     "metadata": {},
     "output_type": "execute_result"
    }
   ],
   "source": [
    "# Exercise 2:\n",
    "# 2a. How many students have 1-2 years of CS experience?\n",
    "\"\"\"\"\"\"\n",
    "node[\"CS Experience\"].value_counts()['1-2 years']"
   ]
  },
  {
   "cell_type": "code",
   "execution_count": 10,
   "metadata": {
    "colab": {
     "base_uri": "https://localhost:8080/",
     "height": 34
    },
    "colab_type": "code",
    "executionInfo": {
     "elapsed": 2864,
     "status": "ok",
     "timestamp": 1581882638077,
     "user": {
      "displayName": "Ishaan Dey",
      "photoUrl": "",
      "userId": "06238985096819983658"
     },
     "user_tz": 300
    },
    "id": "zx8zcCmlBmFF",
    "outputId": "b1e8abe1-d38b-41bb-aaad-f2b5aea4d09d"
   },
   "outputs": [
    {
     "data": {
      "text/plain": [
       "4"
      ]
     },
     "execution_count": 10,
     "metadata": {},
     "output_type": "execute_result"
    }
   ],
   "source": [
    "# 2b. Of the students who have 1-2 years of CS exp, how many have are NOT involved in greek life?\n",
    "# Hint: Create a subset based on the first condition, then tackle the second part.\n",
    "\"\"\"\"\"\"\n",
    "node[node[\"CS Experience\"] =='1-2 years'].greek.value_counts()['No'] \n",
    "# OR\n",
    "\n",
    "cs = node[node[\"CS Experience\"] =='1-2 years']\n",
    "g= cs[cs.greek== \"No\"]\n",
    "len(g)\n",
    "\n"
   ]
  },
  {
   "cell_type": "code",
   "execution_count": 11,
   "metadata": {},
   "outputs": [
    {
     "data": {
      "text/html": [
       "<div>\n",
       "<style scoped>\n",
       "    .dataframe tbody tr th:only-of-type {\n",
       "        vertical-align: middle;\n",
       "    }\n",
       "\n",
       "    .dataframe tbody tr th {\n",
       "        vertical-align: top;\n",
       "    }\n",
       "\n",
       "    .dataframe thead th {\n",
       "        text-align: right;\n",
       "    }\n",
       "</style>\n",
       "<table border=\"1\" class=\"dataframe\">\n",
       "  <thead>\n",
       "    <tr style=\"text-align: right;\">\n",
       "      <th></th>\n",
       "      <th>CS Experience</th>\n",
       "      <th>Data Science Experience</th>\n",
       "    </tr>\n",
       "  </thead>\n",
       "  <tbody>\n",
       "    <tr>\n",
       "      <td>0</td>\n",
       "      <td>3-4</td>\n",
       "      <td>3-4</td>\n",
       "    </tr>\n",
       "    <tr>\n",
       "      <td>1</td>\n",
       "      <td>3-4</td>\n",
       "      <td>Less than 1 year</td>\n",
       "    </tr>\n",
       "    <tr>\n",
       "      <td>2</td>\n",
       "      <td>3-4</td>\n",
       "      <td>1-2 years</td>\n",
       "    </tr>\n",
       "    <tr>\n",
       "      <td>3</td>\n",
       "      <td>&gt; 4 years</td>\n",
       "      <td>Less than 1 year</td>\n",
       "    </tr>\n",
       "    <tr>\n",
       "      <td>4</td>\n",
       "      <td>1-2 years</td>\n",
       "      <td>1-2 years</td>\n",
       "    </tr>\n",
       "    <tr>\n",
       "      <td>5</td>\n",
       "      <td>Less than 1 year</td>\n",
       "      <td>1-2 years</td>\n",
       "    </tr>\n",
       "    <tr>\n",
       "      <td>6</td>\n",
       "      <td>Less than 1 year</td>\n",
       "      <td>3-4</td>\n",
       "    </tr>\n",
       "    <tr>\n",
       "      <td>7</td>\n",
       "      <td>3-4</td>\n",
       "      <td>Less than 1 year</td>\n",
       "    </tr>\n",
       "    <tr>\n",
       "      <td>8</td>\n",
       "      <td>1-2 years</td>\n",
       "      <td>1-2 years</td>\n",
       "    </tr>\n",
       "    <tr>\n",
       "      <td>9</td>\n",
       "      <td>1-2 years</td>\n",
       "      <td>Less than 1 year</td>\n",
       "    </tr>\n",
       "    <tr>\n",
       "      <td>10</td>\n",
       "      <td>&gt; 4 years</td>\n",
       "      <td>1-2 years</td>\n",
       "    </tr>\n",
       "    <tr>\n",
       "      <td>11</td>\n",
       "      <td>1-2 years</td>\n",
       "      <td>1-2 years</td>\n",
       "    </tr>\n",
       "    <tr>\n",
       "      <td>12</td>\n",
       "      <td>3-4</td>\n",
       "      <td>Less than 1 year</td>\n",
       "    </tr>\n",
       "    <tr>\n",
       "      <td>13</td>\n",
       "      <td>3-4</td>\n",
       "      <td>Less than 1 year</td>\n",
       "    </tr>\n",
       "    <tr>\n",
       "      <td>14</td>\n",
       "      <td>3-4</td>\n",
       "      <td>Less than 1 year</td>\n",
       "    </tr>\n",
       "    <tr>\n",
       "      <td>15</td>\n",
       "      <td>1-2 years</td>\n",
       "      <td>1-2 years</td>\n",
       "    </tr>\n",
       "  </tbody>\n",
       "</table>\n",
       "</div>"
      ],
      "text/plain": [
       "       CS Experience Data Science Experience\n",
       "0                3-4                     3-4\n",
       "1                3-4        Less than 1 year\n",
       "2                3-4               1-2 years\n",
       "3          > 4 years        Less than 1 year\n",
       "4          1-2 years               1-2 years\n",
       "5   Less than 1 year               1-2 years\n",
       "6   Less than 1 year                     3-4\n",
       "7                3-4        Less than 1 year\n",
       "8          1-2 years               1-2 years\n",
       "9          1-2 years        Less than 1 year\n",
       "10         > 4 years               1-2 years\n",
       "11         1-2 years               1-2 years\n",
       "12               3-4        Less than 1 year\n",
       "13               3-4        Less than 1 year\n",
       "14               3-4        Less than 1 year\n",
       "15         1-2 years               1-2 years"
      ]
     },
     "execution_count": 11,
     "metadata": {},
     "output_type": "execute_result"
    }
   ],
   "source": [
    "df[[\"CS Experience\", \"Data Science Experience\"]]"
   ]
  },
  {
   "cell_type": "code",
   "execution_count": 12,
   "metadata": {
    "colab": {
     "base_uri": "https://localhost:8080/",
     "height": 51
    },
    "colab_type": "code",
    "executionInfo": {
     "elapsed": 2851,
     "status": "ok",
     "timestamp": 1581882638077,
     "user": {
      "displayName": "Ishaan Dey",
      "photoUrl": "",
      "userId": "06238985096819983658"
     },
     "user_tz": 300
    },
    "id": "2lIrMLaoCHWd",
    "outputId": "58d7f320-b2ae-405b-a681-6594acc815b1"
   },
   "outputs": [
    {
     "data": {
      "text/plain": [
       "1      Andreas\n",
       "7     Kristina\n",
       "12      Eseyab\n",
       "13     Brandon\n",
       "14        Izzy\n",
       "Name: First Name, dtype: object"
      ]
     },
     "execution_count": 12,
     "metadata": {},
     "output_type": "execute_result"
    }
   ],
   "source": [
    "# 2c. There's a few  students who has 3-4 years of CS experience, and have  less than 1  year of data science experience. \n",
    "# What are their  first names?  hit look at the data and realized how messy it is\n",
    "\"\"\"\"\"\"\n",
    "cs = node[node[\"CS Experience\"] =='3-4']\n",
    "ds= cs[cs[\"Data Science Experience\"] ==\"Less than 1 year\"]\n",
    "ds[\"First Name\"]"
   ]
  },
  {
   "cell_type": "code",
   "execution_count": null,
   "metadata": {},
   "outputs": [],
   "source": []
  }
 ],
 "metadata": {
  "colab": {
   "collapsed_sections": [],
   "name": "NodeA_S20_API_WithKey",
   "provenance": [
    {
     "file_id": "11-88GoyCPhHhOXc81yLCSwmL0EyiOuGK",
     "timestamp": 1581820893874
    },
    {
     "file_id": "1kdcrnZ31wMA6OOgVAlmWDDAl3CrX4eL_",
     "timestamp": 1578542038604
    },
    {
     "file_id": "1tCb9qRcNSkjQVSXCiRZt4mP4mnK53T8U",
     "timestamp": 1572813125865
    }
   ]
  },
  "kernelspec": {
   "display_name": "Python 3",
   "language": "python",
   "name": "python3"
  },
  "language_info": {
   "codemirror_mode": {
    "name": "ipython",
    "version": 3
   },
   "file_extension": ".py",
   "mimetype": "text/x-python",
   "name": "python",
   "nbconvert_exporter": "python",
   "pygments_lexer": "ipython3",
   "version": "3.7.4"
  }
 },
 "nbformat": 4,
 "nbformat_minor": 1
}
