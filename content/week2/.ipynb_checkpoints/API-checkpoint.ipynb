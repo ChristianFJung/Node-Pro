{
 "cells": [
  {
   "cell_type": "markdown",
   "metadata": {
    "colab_type": "text",
    "id": "PnLyeDemqsgZ"
   },
   "source": [
    "Thanks to Ishaan Dey for help with this lesson.\n",
    "\n",
    "# Introduction to APIs"
   ]
  },
  {
   "cell_type": "markdown",
   "metadata": {
    "colab_type": "text",
    "id": "EVj4dknaqj_p"
   },
   "source": [
    "What is an API?\n",
    "\n",
    "- API stands for Application Programming Interface. APIs are a great way for your program to interface with other applications to get data <br>\n",
    "- APIs aren't some magical thing that all websites have. The developers of every website may or may not choose to build and maintain an API that the public can use. <br>\n",
    "- Many popular sites have APIs! Not only is it easier to transfer than say a physical file download, but any updates to the dataset can be accessed directly by the code. <br>\n",
    "- APIs are absolutely essential to know if you are interested in web development or working with web data."
   ]
  },
  {
   "cell_type": "markdown",
   "metadata": {
    "colab_type": "text",
    "id": "mojJwMzuq_ZV"
   },
   "source": [
    "Simple example of an API request to pull randomly generated quotes by Kanye: https://api.kanye.rest/\n",
    "\n",
    "<br> An API response can be returned in multiple forms, particularly JSON responses (JavaScript Object Notation)\n",
    "<br> For our plebian purposes, JSON can be thought of as a dictionary of dictionaries & lists\n"
   ]
  },
  {
   "cell_type": "code",
   "execution_count": null,
   "metadata": {
    "colab": {
     "base_uri": "https://localhost:8080/",
     "height": 34
    },
    "colab_type": "code",
    "executionInfo": {
     "elapsed": 1123,
     "status": "ok",
     "timestamp": 1581882635802,
     "user": {
      "displayName": "Ishaan Dey",
      "photoUrl": "",
      "userId": "06238985096819983658"
     },
     "user_tz": 300
    },
    "id": "c4pAWFY5rflw",
    "outputId": "cfbe728b-f966-4f07-f5fe-8969e5620d3b"
   },
   "outputs": [],
   "source": [
    "course_roles = {\n",
    "                'node':     {'PL':'ishaan', \n",
    "                             'PC':['ben', 'ruthvik']}, \n",
    "                'node pro':   {'PL':'christian',  \n",
    "                             'PC':['jasmine', 'nithin']}\n",
    "                }\n",
    "\n",
    "# How would we find who the node pro PCs are?\n",
    "# Hint: course_roles is a dictionary of dictionaries\n",
    "\"\"\"\"\"\"\n"
   ]
  },
  {
   "cell_type": "code",
   "execution_count": null,
   "metadata": {},
   "outputs": [],
   "source": [
    "#ur answer goes here\n"
   ]
  },
  {
   "cell_type": "markdown",
   "metadata": {
    "colab_type": "text",
    "id": "xXmiC5nLsx7_"
   },
   "source": [
    "REST API responses are formatted in the same manner\n"
   ]
  },
  {
   "cell_type": "code",
   "execution_count": null,
   "metadata": {
    "colab": {},
    "colab_type": "code",
    "id": "0xe4IzO5HikW"
   },
   "outputs": [],
   "source": [
    "# Necessary imports\n",
    "import requests\n",
    "import json"
   ]
  },
  {
   "cell_type": "code",
   "execution_count": null,
   "metadata": {
    "colab": {
     "base_uri": "https://localhost:8080/",
     "height": 51
    },
    "colab_type": "code",
    "executionInfo": {
     "elapsed": 1783,
     "status": "ok",
     "timestamp": 1581882636518,
     "user": {
      "displayName": "Ishaan Dey",
      "photoUrl": "",
      "userId": "06238985096819983658"
     },
     "user_tz": 300
    },
    "id": "wm3fE7WgtC3c",
    "outputId": "4528ff33-2106-4746-cf6e-b385001cb118"
   },
   "outputs": [],
   "source": [
    "request = requests.get('https://api.kanye.rest/')\n",
    "print(request)\n",
    "print(type(request))"
   ]
  },
  {
   "cell_type": "markdown",
   "metadata": {
    "colab_type": "text",
    "id": "LgkGFcN3tcSa"
   },
   "source": [
    "The request object we obtained by using the .get() method returned an object of  `class 'requests.models.Response'`. \n",
    "<br> To extract the content, use the `.json()` function. The corresponding object should now be a python dictionary.\n"
   ]
  },
  {
   "cell_type": "code",
   "execution_count": null,
   "metadata": {
    "colab": {
     "base_uri": "https://localhost:8080/",
     "height": 51
    },
    "colab_type": "code",
    "executionInfo": {
     "elapsed": 1965,
     "status": "ok",
     "timestamp": 1581882636714,
     "user": {
      "displayName": "Ishaan Dey",
      "photoUrl": "",
      "userId": "06238985096819983658"
     },
     "user_tz": 300
    },
    "id": "H2blpvTtt5Ae",
    "outputId": "5a23e8d3-53fa-4473-b7b6-9849753ad95f"
   },
   "outputs": [],
   "source": [
    "request = requests.get('https://api.kanye.rest/').json()\n",
    "print(request)\n",
    "print(type(request))"
   ]
  },
  {
   "cell_type": "code",
   "execution_count": null,
   "metadata": {
    "colab": {
     "base_uri": "https://localhost:8080/",
     "height": 51
    },
    "colab_type": "code",
    "executionInfo": {
     "elapsed": 1962,
     "status": "ok",
     "timestamp": 1581882636722,
     "user": {
      "displayName": "Ishaan Dey",
      "photoUrl": "",
      "userId": "06238985096819983658"
     },
     "user_tz": 300
    },
    "id": "p8HcEfcBuJaT",
    "outputId": "bf03e332-1b34-40fa-c9cf-9e71918b6133"
   },
   "outputs": [],
   "source": [
    "# How would we pull out the content of quote as a string? (And how would we check it is indeed a str?)\n",
    "\n"
   ]
  },
  {
   "cell_type": "code",
   "execution_count": null,
   "metadata": {},
   "outputs": [],
   "source": [
    "#\n",
    "print(request['quote'])\n",
    "print(type(request['quote']))"
   ]
  },
  {
   "cell_type": "markdown",
   "metadata": {
    "colab_type": "text",
    "id": "WMuVZLkF6wtS"
   },
   "source": [
    "# Node EDA with APIs\n"
   ]
  },
  {
   "cell_type": "markdown",
   "metadata": {
    "colab_type": "text",
    "id": "dubEqvgX66eT"
   },
   "source": [
    "Imagine if we there was some dataset sitting on some server in some far off distant land. In other words, NOT a cute little CSV sitting on our laptop. How would we go about importing that data?\n",
    "\n",
    "APIs makes that data import process super easy. Just as we had a pandas function `.read_csv()` to read in data seperated by commas, we can use another function `.read_json()` to read in that funky dictionary format we explored earlier.\n"
   ]
  },
  {
   "cell_type": "markdown",
   "metadata": {
    "colab_type": "text",
    "id": "q3aU_msD86g5"
   },
   "source": [
    "For this exercise, we'll use the welcome survey data from week 1. "
   ]
  },
  {
   "cell_type": "code",
   "execution_count": null,
   "metadata": {
    "colab": {},
    "colab_type": "code",
    "id": "5tSL3TcB9Wml"
   },
   "outputs": [],
   "source": [
    "# The classic imports\n",
    "import pandas as pd\n",
    "import numpy as np\n",
    "\n",
    "import seaborn as sns\n",
    "import matplotlib.pyplot as plt"
   ]
  },
  {
   "cell_type": "code",
   "execution_count": null,
   "metadata": {},
   "outputs": [],
   "source": [
    "request = requests.get(\"https://nodepro.hackcville.com/week2/data/csvjson.json\").json()\n",
    "print(request)\n",
    "print(type(request))"
   ]
  },
  {
   "cell_type": "code",
   "execution_count": null,
   "metadata": {
    "colab": {
     "base_uri": "https://localhost:8080/",
     "height": 117
    },
    "colab_type": "code",
    "executionInfo": {
     "elapsed": 2568,
     "status": "ok",
     "timestamp": 1581882637572,
     "user": {
      "displayName": "Ishaan Dey",
      "photoUrl": "",
      "userId": "06238985096819983658"
     },
     "user_tz": 300
    },
    "id": "V4rsoo9K7eE3",
    "outputId": "8f4a6463-ec8a-44e3-e1f4-fa82cfd2ea05"
   },
   "outputs": [],
   "source": [
    "df = pd.read_json(\"https://nodepro.hackcville.com/week2/data/csvjson.json\")\n",
    "df"
   ]
  },
  {
   "cell_type": "code",
   "execution_count": null,
   "metadata": {
    "colab": {
     "base_uri": "https://localhost:8080/",
     "height": 366
    },
    "colab_type": "code",
    "executionInfo": {
     "elapsed": 3018,
     "status": "ok",
     "timestamp": 1581882638073,
     "user": {
      "displayName": "Ishaan Dey",
      "photoUrl": "",
      "userId": "06238985096819983658"
     },
     "user_tz": 300
    },
    "id": "vZuhbepyCfm2",
    "outputId": "a227756a-0ee1-4844-db32-6fec7a814643"
   },
   "outputs": [],
   "source": [
    "# Just renaming some of the columns since it was imported from google forms\n",
    "col_names = {'Are/were you involved in greek life or an academic fraternity or sorority?':'greek',\n",
    "             'What clubs/ extracurriculars do you participate in?':'extracurriculars',\n",
    "             df.columns[5]:'major_minor',\n",
    "             df.columns[-1]:'data_interest',\n",
    "             }\n"
   ]
  },
  {
   "cell_type": "markdown",
   "metadata": {
    "colab_type": "text",
    "id": "0LYfxH019liz"
   },
   "source": [
    "One of the most critical (and most common) tasks performed by a data scientist is called EDA, or *Exploratory Data Analysis*.\n",
    "\n",
    "EDA is really just a quick look at the surface of data, maybe some basic trends or frequencies, all to get a better idea of what the information contained in the dataset looks like."
   ]
  },
  {
   "cell_type": "code",
   "execution_count": null,
   "metadata": {
    "colab": {
     "base_uri": "https://localhost:8080/",
     "height": 34
    },
    "colab_type": "code",
    "executionInfo": {
     "elapsed": 2923,
     "status": "ok",
     "timestamp": 1581882638074,
     "user": {
      "displayName": "Ishaan Dey",
      "photoUrl": "",
      "userId": "06238985096819983658"
     },
     "user_tz": 300
    },
    "id": "m4dcmkvY9hHw",
    "outputId": "0eef9f75-61f2-4b93-9abe-a4dba0c760c2"
   },
   "outputs": [],
   "source": [
    "# Exercise 1:\n",
    "# How many students are represented in the welcome survey? \n",
    "\"\"\"\"\"\"\n"
   ]
  },
  {
   "cell_type": "code",
   "execution_count": null,
   "metadata": {},
   "outputs": [],
   "source": [
    "# Exercise 2: \n",
    "# 2a. What's the distrubution of CS Experience?\n",
    "\n",
    "\n"
   ]
  },
  {
   "cell_type": "code",
   "execution_count": null,
   "metadata": {},
   "outputs": [],
   "source": [
    "# or\n"
   ]
  },
  {
   "cell_type": "code",
   "execution_count": null,
   "metadata": {
    "colab": {
     "base_uri": "https://localhost:8080/",
     "height": 34
    },
    "colab_type": "code",
    "executionInfo": {
     "elapsed": 2888,
     "status": "ok",
     "timestamp": 1581882638076,
     "user": {
      "displayName": "Ishaan Dey",
      "photoUrl": "",
      "userId": "06238985096819983658"
     },
     "user_tz": 300
    },
    "id": "dIQC5RXP-rm4",
    "outputId": "74ba789a-fec3-40bf-fcff-139c68e74315"
   },
   "outputs": [],
   "source": [
    "# Exercise 2:\n",
    "# 2a. How many students have 1-2 years of CS experience?\n",
    "\"\"\"\"\"\"\n"
   ]
  },
  {
   "cell_type": "code",
   "execution_count": null,
   "metadata": {
    "colab": {
     "base_uri": "https://localhost:8080/",
     "height": 34
    },
    "colab_type": "code",
    "executionInfo": {
     "elapsed": 2864,
     "status": "ok",
     "timestamp": 1581882638077,
     "user": {
      "displayName": "Ishaan Dey",
      "photoUrl": "",
      "userId": "06238985096819983658"
     },
     "user_tz": 300
    },
    "id": "zx8zcCmlBmFF",
    "outputId": "b1e8abe1-d38b-41bb-aaad-f2b5aea4d09d"
   },
   "outputs": [],
   "source": [
    "# 2b. Of the students who have 1-2 years of CS exp, how many have are NOT involved in greek life?\n",
    "# Hint: Create a subset based on the first condition, then tackle the second part.\n",
    "\"\"\"\"\"\"\n",
    "\n"
   ]
  },
  {
   "cell_type": "code",
   "execution_count": null,
   "metadata": {
    "colab": {
     "base_uri": "https://localhost:8080/",
     "height": 51
    },
    "colab_type": "code",
    "executionInfo": {
     "elapsed": 2851,
     "status": "ok",
     "timestamp": 1581882638077,
     "user": {
      "displayName": "Ishaan Dey",
      "photoUrl": "",
      "userId": "06238985096819983658"
     },
     "user_tz": 300
    },
    "id": "2lIrMLaoCHWd",
    "outputId": "58d7f320-b2ae-405b-a681-6594acc815b1"
   },
   "outputs": [],
   "source": [
    "# 2c. There's a few  students who has 3-4 years of CS experience, and have  less than 1  year of data science experience. \n",
    "# What are their  first names?  hint.... look at the data and realized how messy it is\n",
    "\"\"\"\"\"\"\n"
   ]
  }
 ],
 "metadata": {
  "colab": {
   "collapsed_sections": [],
   "name": "Node Pro API Lesson",
   "provenance": [
    {
     "file_id": "11-88GoyCPhHhOXc81yLCSwmL0EyiOuGK",
     "timestamp": 1581820893874
    },
    {
     "file_id": "1kdcrnZ31wMA6OOgVAlmWDDAl3CrX4eL_",
     "timestamp": 1578542038604
    },
    {
     "file_id": "1tCb9qRcNSkjQVSXCiRZt4mP4mnK53T8U",
     "timestamp": 1572813125865
    }
   ]
  },
  "kernelspec": {
   "display_name": "Python 3",
   "language": "python",
   "name": "python3"
  },
  "language_info": {
   "codemirror_mode": {
    "name": "ipython",
    "version": 3
   },
   "file_extension": ".py",
   "mimetype": "text/x-python",
   "name": "python",
   "nbconvert_exporter": "python",
   "pygments_lexer": "ipython3",
   "version": "3.7.4"
  }
 },
 "nbformat": 4,
 "nbformat_minor": 1
}
