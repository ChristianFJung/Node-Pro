{
 "cells": [
  {
   "cell_type": "markdown",
   "metadata": {},
   "source": [
    "# Create your own train test split function\n",
    "\n",
    "https://scikit-learn.org/stable/modules/generated/sklearn.model_selection.train_test_split.html\n",
    "\n",
    "Sklearn has a function called train_tests_split. Without looking at the source code, I want you to create your own verision. Let's call it `super_splity` . It should take X and Y as a parmater and return `X_train, X_test, y_train, y_test`.\n",
    "\n",
    "\n",
    "Remeber you can't just take the first 20% to be the test. You need to make sure you grab a random 20%.\n",
    "\n",
    "\n",
    "\n",
    "hints: look up how to shuffle a dataframe and how to reset_index\n"
   ]
  },
  {
   "cell_type": "code",
   "execution_count": 1,
   "metadata": {},
   "outputs": [],
   "source": [
    "#notice how I can return multiple things like this\n",
    "def examplefunction(A,b):\n",
    "    \n",
    "    \n",
    "    return A+1, A-b, A*b, b-A"
   ]
  },
  {
   "cell_type": "markdown",
   "metadata": {},
   "source": [
    "# Your Code Here\n",
    "Use this dataset and make `species` your Y. \n",
    "\n",
    "https://gist.githubusercontent.com/curran/a08a1080b88344b0c8a7/raw/0e7a9b0a5d22642a06d3d5b9bcbad9890c8ee534/iris.csv"
   ]
  },
  {
   "cell_type": "code",
   "execution_count": 5,
   "metadata": {},
   "outputs": [],
   "source": [
    "url =\"https://gist.githubusercontent.com/curran/a08a1080b88344b0c8a7/raw/0e7a9b0a5d22642a06d3d5b9bcbad9890c8ee534/iris.csv\"\n",
    "import pandas as pd\n",
    "\n",
    "df = pd.read_csv(url)\n",
    "X=df.drop([\"species\"],axis=1)\n",
    "y= pd.DataFrame(df[[\"species\"]])"
   ]
  },
  {
   "cell_type": "code",
   "execution_count": 78,
   "metadata": {},
   "outputs": [],
   "source": [
    "#way 1\n",
    "def super_splity(X,y):\n",
    "    X_size= len(X)\n",
    "    X_test_size= int(np.floor(X_size * .20))\n",
    "\n",
    "    X_test = X.sample(X_test_size);\n",
    "\n",
    "    X_train = pd.concat([X,X_test]).drop_duplicates(keep=False)\n",
    "\n",
    "    y_size= len(y)\n",
    "    y_test_size= int(np.floor(y_size * .20))\n",
    "\n",
    "    y_test = y.sample(y_test_size);\n",
    "\n",
    "    y_train = pd.concat([y,y_test]).drop_duplicates(keep=False)\n",
    "    \n",
    "    \n",
    "    return  X_train, X_test, y_train, y_test ; \n",
    "    "
   ]
  },
  {
   "cell_type": "code",
   "execution_count": 79,
   "metadata": {},
   "outputs": [],
   "source": [
    "#way 2\n",
    "def super_splity2(X,y):\n",
    "    X_size= len(X)\n",
    "    X_test_size= int(np.floor(X_size * .20))\n",
    "\n",
    "    X= X.sample(frac=1).reset_index()\n",
    "    \n",
    "    \n",
    "    X_test = X[:X_test_size];\n",
    "\n",
    "    X_train = X[X_test_size:]\n",
    "\n",
    "    y_size= len(y)\n",
    "    y_test_size= int(np.floor(y_size * .20))\n",
    "\n",
    "    y= y.sample(frac=1).reset_index()\n",
    "    \n",
    "    \n",
    "    y_test = y[:y_test_size];\n",
    "\n",
    "    y_train = y[y_test_size:]\n",
    "\n",
    "    \n",
    "    \n",
    "    return  X_train, X_test, y_train, y_test ; "
   ]
  },
  {
   "cell_type": "code",
   "execution_count": 75,
   "metadata": {},
   "outputs": [
    {
     "data": {
      "text/html": [
       "<div>\n",
       "<style scoped>\n",
       "    .dataframe tbody tr th:only-of-type {\n",
       "        vertical-align: middle;\n",
       "    }\n",
       "\n",
       "    .dataframe tbody tr th {\n",
       "        vertical-align: top;\n",
       "    }\n",
       "\n",
       "    .dataframe thead th {\n",
       "        text-align: right;\n",
       "    }\n",
       "</style>\n",
       "<table border=\"1\" class=\"dataframe\">\n",
       "  <thead>\n",
       "    <tr style=\"text-align: right;\">\n",
       "      <th></th>\n",
       "      <th>sepal_length</th>\n",
       "      <th>sepal_width</th>\n",
       "      <th>petal_length</th>\n",
       "      <th>petal_width</th>\n",
       "    </tr>\n",
       "  </thead>\n",
       "  <tbody>\n",
       "    <tr>\n",
       "      <td>122</td>\n",
       "      <td>7.7</td>\n",
       "      <td>2.8</td>\n",
       "      <td>6.7</td>\n",
       "      <td>2.0</td>\n",
       "    </tr>\n",
       "    <tr>\n",
       "      <td>135</td>\n",
       "      <td>7.7</td>\n",
       "      <td>3.0</td>\n",
       "      <td>6.1</td>\n",
       "      <td>2.3</td>\n",
       "    </tr>\n",
       "    <tr>\n",
       "      <td>100</td>\n",
       "      <td>6.3</td>\n",
       "      <td>3.3</td>\n",
       "      <td>6.0</td>\n",
       "      <td>2.5</td>\n",
       "    </tr>\n",
       "    <tr>\n",
       "      <td>30</td>\n",
       "      <td>4.8</td>\n",
       "      <td>3.1</td>\n",
       "      <td>1.6</td>\n",
       "      <td>0.2</td>\n",
       "    </tr>\n",
       "    <tr>\n",
       "      <td>10</td>\n",
       "      <td>5.4</td>\n",
       "      <td>3.7</td>\n",
       "      <td>1.5</td>\n",
       "      <td>0.2</td>\n",
       "    </tr>\n",
       "    <tr>\n",
       "      <td>...</td>\n",
       "      <td>...</td>\n",
       "      <td>...</td>\n",
       "      <td>...</td>\n",
       "      <td>...</td>\n",
       "    </tr>\n",
       "    <tr>\n",
       "      <td>8</td>\n",
       "      <td>4.4</td>\n",
       "      <td>2.9</td>\n",
       "      <td>1.4</td>\n",
       "      <td>0.2</td>\n",
       "    </tr>\n",
       "    <tr>\n",
       "      <td>75</td>\n",
       "      <td>6.6</td>\n",
       "      <td>3.0</td>\n",
       "      <td>4.4</td>\n",
       "      <td>1.4</td>\n",
       "    </tr>\n",
       "    <tr>\n",
       "      <td>142</td>\n",
       "      <td>5.8</td>\n",
       "      <td>2.7</td>\n",
       "      <td>5.1</td>\n",
       "      <td>1.9</td>\n",
       "    </tr>\n",
       "    <tr>\n",
       "      <td>58</td>\n",
       "      <td>6.6</td>\n",
       "      <td>2.9</td>\n",
       "      <td>4.6</td>\n",
       "      <td>1.3</td>\n",
       "    </tr>\n",
       "    <tr>\n",
       "      <td>134</td>\n",
       "      <td>6.1</td>\n",
       "      <td>2.6</td>\n",
       "      <td>5.6</td>\n",
       "      <td>1.4</td>\n",
       "    </tr>\n",
       "  </tbody>\n",
       "</table>\n",
       "<p>150 rows × 4 columns</p>\n",
       "</div>"
      ],
      "text/plain": [
       "     sepal_length  sepal_width  petal_length  petal_width\n",
       "122           7.7          2.8           6.7          2.0\n",
       "135           7.7          3.0           6.1          2.3\n",
       "100           6.3          3.3           6.0          2.5\n",
       "30            4.8          3.1           1.6          0.2\n",
       "10            5.4          3.7           1.5          0.2\n",
       "..            ...          ...           ...          ...\n",
       "8             4.4          2.9           1.4          0.2\n",
       "75            6.6          3.0           4.4          1.4\n",
       "142           5.8          2.7           5.1          1.9\n",
       "58            6.6          2.9           4.6          1.3\n",
       "134           6.1          2.6           5.6          1.4\n",
       "\n",
       "[150 rows x 4 columns]"
      ]
     },
     "execution_count": 75,
     "metadata": {},
     "output_type": "execute_result"
    }
   ],
   "source": [
    "X.sample(frac=1)"
   ]
  },
  {
   "cell_type": "code",
   "execution_count": 80,
   "metadata": {},
   "outputs": [
    {
     "name": "stdout",
     "output_type": "stream",
     "text": [
      "No errors, it's working correctly\n"
     ]
    }
   ],
   "source": [
    "# Test your code by running this line\n",
    "X_train, X_test, y_train, y_test = super_splity(X,y)\n",
    "assert(int(len(X) *.20 ) == len(X_test))\n",
    "assert(int(len(y) *.20 ) == len(y_test))\n",
    "\n",
    "\n",
    "\n",
    "print(\"No errors, it's working correctly\")"
   ]
  },
  {
   "cell_type": "code",
   "execution_count": null,
   "metadata": {},
   "outputs": [],
   "source": []
  },
  {
   "cell_type": "code",
   "execution_count": null,
   "metadata": {},
   "outputs": [],
   "source": []
  }
 ],
 "metadata": {
  "kernelspec": {
   "display_name": "Python 3",
   "language": "python",
   "name": "python3"
  },
  "language_info": {
   "codemirror_mode": {
    "name": "ipython",
    "version": 3
   },
   "file_extension": ".py",
   "mimetype": "text/x-python",
   "name": "python",
   "nbconvert_exporter": "python",
   "pygments_lexer": "ipython3",
   "version": "3.7.4"
  }
 },
 "nbformat": 4,
 "nbformat_minor": 2
}
