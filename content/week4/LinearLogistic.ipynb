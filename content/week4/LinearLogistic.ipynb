{
 "cells": [
  {
   "cell_type": "markdown",
   "metadata": {
    "id": "5uWJR8-JnlpB"
   },
   "source": [
    "# Getting the Data"
   ]
  },
  {
   "cell_type": "code",
   "execution_count": null,
   "metadata": {
    "id": "zB-Uz-MDnlpD"
   },
   "outputs": [],
   "source": [
    "from sklearn.datasets import load_boston"
   ]
  },
  {
   "cell_type": "code",
   "execution_count": null,
   "metadata": {
    "colab": {
     "base_uri": "https://localhost:8080/",
     "height": 922
    },
    "id": "BT5MI7PWnlpJ",
    "outputId": "28ca5f7d-5e35-4598-b40f-5c71f4cb0a2e"
   },
   "outputs": [
    {
     "name": "stdout",
     "output_type": "stream",
     "text": [
      ".. _boston_dataset:\n",
      "\n",
      "Boston house prices dataset\n",
      "---------------------------\n",
      "\n",
      "**Data Set Characteristics:**  \n",
      "\n",
      "    :Number of Instances: 506 \n",
      "\n",
      "    :Number of Attributes: 13 numeric/categorical predictive. Median Value (attribute 14) is usually the target.\n",
      "\n",
      "    :Attribute Information (in order):\n",
      "        - CRIM     per capita crime rate by town\n",
      "        - ZN       proportion of residential land zoned for lots over 25,000 sq.ft.\n",
      "        - INDUS    proportion of non-retail business acres per town\n",
      "        - CHAS     Charles River dummy variable (= 1 if tract bounds river; 0 otherwise)\n",
      "        - NOX      nitric oxides concentration (parts per 10 million)\n",
      "        - RM       average number of rooms per dwelling\n",
      "        - AGE      proportion of owner-occupied units built prior to 1940\n",
      "        - DIS      weighted distances to five Boston employment centres\n",
      "        - RAD      index of accessibility to radial highways\n",
      "        - TAX      full-value property-tax rate per $10,000\n",
      "        - PTRATIO  pupil-teacher ratio by town\n",
      "        - B        1000(Bk - 0.63)^2 where Bk is the proportion of blacks by town\n",
      "        - LSTAT    % lower status of the population\n",
      "        - MEDV     Median value of owner-occupied homes in $1000's\n",
      "\n",
      "    :Missing Attribute Values: None\n",
      "\n",
      "    :Creator: Harrison, D. and Rubinfeld, D.L.\n",
      "\n",
      "This is a copy of UCI ML housing dataset.\n",
      "https://archive.ics.uci.edu/ml/machine-learning-databases/housing/\n",
      "\n",
      "\n",
      "This dataset was taken from the StatLib library which is maintained at Carnegie Mellon University.\n",
      "\n",
      "The Boston house-price data of Harrison, D. and Rubinfeld, D.L. 'Hedonic\n",
      "prices and the demand for clean air', J. Environ. Economics & Management,\n",
      "vol.5, 81-102, 1978.   Used in Belsley, Kuh & Welsch, 'Regression diagnostics\n",
      "...', Wiley, 1980.   N.B. Various transformations are used in the table on\n",
      "pages 244-261 of the latter.\n",
      "\n",
      "The Boston house-price data has been used in many machine learning papers that address regression\n",
      "problems.   \n",
      "     \n",
      ".. topic:: References\n",
      "\n",
      "   - Belsley, Kuh & Welsch, 'Regression diagnostics: Identifying Influential Data and Sources of Collinearity', Wiley, 1980. 244-261.\n",
      "   - Quinlan,R. (1993). Combining Instance-Based and Model-Based Learning. In Proceedings on the Tenth International Conference of Machine Learning, 236-243, University of Massachusetts, Amherst. Morgan Kaufmann.\n",
      "\n"
     ]
    }
   ],
   "source": [
    "boston = load_boston()\n",
    "print(boston.DESCR)"
   ]
  },
  {
   "cell_type": "code",
   "execution_count": null,
   "metadata": {
    "colab": {
     "base_uri": "https://localhost:8080/",
     "height": 55
    },
    "id": "SSCb9eZ6nlpP",
    "outputId": "6015e5cc-3991-4b7b-ebca-fd89cb1cf403"
   },
   "outputs": [
    {
     "data": {
      "text/plain": [
       "dict_keys(['data', 'target', 'feature_names', 'DESCR', 'filename'])"
      ]
     },
     "execution_count": 3,
     "metadata": {
      "tags": []
     },
     "output_type": "execute_result"
    }
   ],
   "source": [
    "boston.keys()"
   ]
  },
  {
   "cell_type": "code",
   "execution_count": null,
   "metadata": {
    "id": "hnYwLUo2nlpT"
   },
   "outputs": [],
   "source": [
    "X = boston['data']\n",
    "y = boston['target']"
   ]
  },
  {
   "cell_type": "markdown",
   "metadata": {
    "id": "LXiObrGRnlpW"
   },
   "source": [
    "# Building a Linear Regression Model"
   ]
  },
  {
   "cell_type": "code",
   "execution_count": null,
   "metadata": {
    "id": "nQNQDhB8nlpX"
   },
   "outputs": [],
   "source": [
    "from sklearn.linear_model import LinearRegression\n",
    "from sklearn.model_selection import train_test_split"
   ]
  },
  {
   "cell_type": "code",
   "execution_count": null,
   "metadata": {
    "colab": {
     "base_uri": "https://localhost:8080/",
     "height": 55
    },
    "id": "Wu1KAQU5nlpZ",
    "outputId": "e86361dc-3f0d-4147-d629-97c811b79abc"
   },
   "outputs": [
    {
     "data": {
      "text/plain": [
       "LinearRegression(copy_X=True, fit_intercept=True, n_jobs=None, normalize=False)"
      ]
     },
     "execution_count": 6,
     "metadata": {
      "tags": []
     },
     "output_type": "execute_result"
    }
   ],
   "source": [
    "X_train, X_test, y_train, y_test = train_test_split(X, y, test_size=0.2, random_state=0)\n",
    "\n",
    "lin_reg = LinearRegression()\n",
    "lin_reg.fit(X_train, y_train)"
   ]
  },
  {
   "cell_type": "code",
   "execution_count": null,
   "metadata": {
    "colab": {
     "base_uri": "https://localhost:8080/",
     "height": 402
    },
    "id": "F5gilXa4nlpb",
    "outputId": "8aa9328b-8459-41db-b65b-379c9a5d09ae"
   },
   "outputs": [
    {
     "data": {
      "text/plain": [
       "array([24.88963777, 23.72141085, 29.36499868, 12.12238621, 21.44382254,\n",
       "       19.2834443 , 20.49647539, 21.36099298, 18.8967118 , 19.9280658 ,\n",
       "        5.12703513, 16.3867396 , 17.07776485,  5.59375659, 39.99636726,\n",
       "       32.49654668, 22.45798809, 36.85192327, 30.86401089, 23.15140009,\n",
       "       24.77495789, 24.67187756, 20.59543752, 30.35369168, 22.41940736,\n",
       "       10.23266565, 17.64816865, 18.27419652, 35.53362541, 20.96084724,\n",
       "       18.30413012, 17.79262072, 19.96561663, 24.06127231, 29.10204874,\n",
       "       19.27774123, 11.15536648, 24.57560579, 17.5862644 , 15.49454112,\n",
       "       26.20577527, 20.86304693, 22.31460516, 15.60710156, 23.00363104,\n",
       "       25.17247952, 20.11459464, 22.90256276, 10.0380507 , 24.28515123,\n",
       "       20.94127711, 17.35258791, 24.52235405, 29.95143046, 13.42695877,\n",
       "       21.72673066, 20.7897053 , 15.49668805, 13.98982601, 22.18377874,\n",
       "       17.73047814, 21.58869165, 32.90522136, 31.11235671, 17.73252635,\n",
       "       32.76358681, 18.7124637 , 19.78693475, 19.02958927, 22.89825374,\n",
       "       22.96041622, 24.02555703, 30.72859326, 28.83142691, 25.89957059,\n",
       "        5.23251817, 36.72183202, 23.77267249, 27.26856352, 19.29492159,\n",
       "       28.62304496, 19.17978838, 18.97185995, 37.82397662, 39.22012647,\n",
       "       23.71261106, 24.93076217, 15.88545417, 26.09845751, 16.68819641,\n",
       "       15.83515991, 13.10775597, 24.71583588, 31.25165267, 22.16640989,\n",
       "       20.25087212,  0.59025319, 25.44217132, 15.57178328, 17.93719475,\n",
       "       25.30588844, 22.3732326 ])"
      ]
     },
     "execution_count": 7,
     "metadata": {
      "tags": []
     },
     "output_type": "execute_result"
    }
   ],
   "source": [
    "y_pred_lin = lin_reg.predict(X_test)\n",
    "y_pred_lin"
   ]
  },
  {
   "cell_type": "code",
   "execution_count": null,
   "metadata": {
    "id": "rmwpB6MDnlpd"
   },
   "outputs": [],
   "source": [
    "from sklearn.metrics import mean_squared_error"
   ]
  },
  {
   "cell_type": "code",
   "execution_count": null,
   "metadata": {
    "colab": {
     "base_uri": "https://localhost:8080/",
     "height": 55
    },
    "id": "GeqclRzEnlpf",
    "outputId": "3a446ce1-126d-4154-f6fe-42dbda287973"
   },
   "outputs": [
    {
     "data": {
      "text/plain": [
       "33.448979997676496"
      ]
     },
     "execution_count": 9,
     "metadata": {
      "tags": []
     },
     "output_type": "execute_result"
    }
   ],
   "source": [
    "mean_squared_error(y_test, y_pred_lin)"
   ]
  },
  {
   "cell_type": "code",
   "execution_count": null,
   "metadata": {
    "colab": {
     "base_uri": "https://localhost:8080/",
     "height": 55
    },
    "id": "RCkoPqj_nlph",
    "outputId": "30284ef7-32d1-41ad-9998-a9002025fb51"
   },
   "outputs": [
    {
     "data": {
      "text/plain": [
       "19.326470203585725"
      ]
     },
     "execution_count": 10,
     "metadata": {
      "tags": []
     },
     "output_type": "execute_result"
    }
   ],
   "source": [
    "mean_squared_error(y_train, lin_reg.predict(X_train))"
   ]
  },
  {
   "cell_type": "markdown",
   "metadata": {
    "id": "Gr3Rx_i7nlpj"
   },
   "source": [
    "# Ridge Regression"
   ]
  },
  {
   "cell_type": "code",
   "execution_count": null,
   "metadata": {
    "id": "1SZ37DXwnlpj"
   },
   "outputs": [],
   "source": [
    "from sklearn.linear_model import Ridge"
   ]
  },
  {
   "cell_type": "code",
   "execution_count": null,
   "metadata": {
    "colab": {
     "base_uri": "https://localhost:8080/",
     "height": 72
    },
    "id": "2yS8bvFLnlpk",
    "outputId": "9ee92523-5fcd-47cb-c5c7-0ca22a328736"
   },
   "outputs": [
    {
     "data": {
      "text/plain": [
       "Ridge(alpha=1.0, copy_X=True, fit_intercept=True, max_iter=None, normalize=True,\n",
       "      random_state=None, solver='auto', tol=0.001)"
      ]
     },
     "execution_count": 12,
     "metadata": {
      "tags": []
     },
     "output_type": "execute_result"
    }
   ],
   "source": [
    "ridge = Ridge(normalize=True)\n",
    "\n",
    "ridge.fit(X_train, y_train)"
   ]
  },
  {
   "cell_type": "code",
   "execution_count": null,
   "metadata": {
    "colab": {
     "base_uri": "https://localhost:8080/",
     "height": 402
    },
    "id": "icGeGBL1nlpm",
    "outputId": "bb810bd4-ed38-41cd-d33e-10f26945592e"
   },
   "outputs": [
    {
     "data": {
      "text/plain": [
       "array([26.1651642 , 19.67326318, 26.92390682, 13.48330193, 22.66144095,\n",
       "       21.49573092, 19.00774025, 22.66754981, 19.68072138, 20.45848218,\n",
       "        9.15533931, 15.62397774, 17.3187897 ,  9.40916382, 33.1889647 ,\n",
       "       31.51552638, 20.12247651, 34.12698781, 27.99335506, 23.28543688,\n",
       "       24.68676174, 22.72764272, 20.97504961, 27.58243882, 23.35012921,\n",
       "       10.18342881, 20.25108655, 19.96518986, 31.66144532, 21.48506197,\n",
       "       17.36737121, 17.89901741, 23.09538558, 24.72169459, 26.27648252,\n",
       "       19.08796673, 13.52319532, 20.94426005, 16.41350453, 15.66912853,\n",
       "       25.5560216 , 22.67326902, 24.83886397, 15.23365758, 26.40211496,\n",
       "       25.21499583, 22.172404  , 23.88642417, 15.21994802, 23.78870362,\n",
       "       22.49306087, 19.98370115, 23.47379883, 31.21424444, 16.31839971,\n",
       "       23.6762334 , 23.82848732, 21.59597569, 13.05399034, 23.11182213,\n",
       "       24.38000223, 22.76646519, 29.96693583, 27.65349793, 17.16950016,\n",
       "       29.66262364, 18.53533927, 23.07339611, 17.44065452, 23.15025854,\n",
       "       22.78908888, 23.84658074, 29.17085619, 28.80587118, 22.1984851 ,\n",
       "        9.70751918, 31.79668863, 23.91228079, 25.95024068, 20.73432481,\n",
       "       27.63690582, 19.96257607, 16.76907378, 31.93827132, 33.03269675,\n",
       "       24.67548575, 24.52641994, 15.11557245, 24.97298987, 16.98799355,\n",
       "       21.39882799, 15.11936776, 27.35209362, 30.41228161, 22.16435148,\n",
       "       23.57702514,  6.15260591, 28.02967883, 16.28739666, 21.22892966,\n",
       "       24.71065745, 22.25644749])"
      ]
     },
     "execution_count": 13,
     "metadata": {
      "tags": []
     },
     "output_type": "execute_result"
    }
   ],
   "source": [
    "y_pred_ridge = ridge.predict(X_test)\n",
    "y_pred_ridge"
   ]
  },
  {
   "cell_type": "code",
   "execution_count": null,
   "metadata": {
    "colab": {
     "base_uri": "https://localhost:8080/",
     "height": 55
    },
    "id": "o6LNlgSAnlpn",
    "outputId": "9b288039-970a-40bc-cb09-e8532b91ab5b"
   },
   "outputs": [
    {
     "data": {
      "text/plain": [
       "45.104198771450164"
      ]
     },
     "execution_count": 14,
     "metadata": {
      "tags": []
     },
     "output_type": "execute_result"
    }
   ],
   "source": [
    "mean_squared_error(y_test, y_pred_ridge)"
   ]
  },
  {
   "cell_type": "code",
   "execution_count": null,
   "metadata": {
    "colab": {
     "base_uri": "https://localhost:8080/",
     "height": 55
    },
    "id": "8m1gekVjnlpp",
    "outputId": "a5f84d56-d0ca-412e-9108-b8ba6d89e902"
   },
   "outputs": [
    {
     "data": {
      "text/plain": [
       "27.31486857120688"
      ]
     },
     "execution_count": 15,
     "metadata": {
      "tags": []
     },
     "output_type": "execute_result"
    }
   ],
   "source": [
    "mean_squared_error(y_train, ridge.predict(X_train))"
   ]
  },
  {
   "cell_type": "markdown",
   "metadata": {
    "id": "8oWE2W5Qnlpq"
   },
   "source": [
    "Higher error than in Linear Regression for many values of lambda. This probably indicates that Ridge Regression is not a good fit because it is too incorrectly biased."
   ]
  },
  {
   "cell_type": "markdown",
   "metadata": {
    "id": "kv445DPmnlpq"
   },
   "source": [
    "# Polynomial Regression"
   ]
  },
  {
   "cell_type": "code",
   "execution_count": null,
   "metadata": {
    "id": "XWlysxkInlpr"
   },
   "outputs": [],
   "source": [
    "from sklearn.preprocessing import PolynomialFeatures\n",
    "\n",
    "poly2 = PolynomialFeatures(degree = 2)"
   ]
  },
  {
   "cell_type": "code",
   "execution_count": null,
   "metadata": {
    "id": "2RMTgqdznlps"
   },
   "outputs": [],
   "source": [
    "X_train2 = poly2.fit_transform(X_train)\n",
    "X_test2 = poly2.transform(X_test)"
   ]
  },
  {
   "cell_type": "code",
   "execution_count": null,
   "metadata": {
    "id": "kA5-9afbnlpt"
   },
   "outputs": [],
   "source": [
    "poly_reg = LinearRegression().fit(X_train2, y_train)\n",
    "y_pred_poly = poly_reg.predict(X_test2)"
   ]
  },
  {
   "cell_type": "code",
   "execution_count": null,
   "metadata": {
    "colab": {
     "base_uri": "https://localhost:8080/",
     "height": 55
    },
    "id": "WI4XohQGnlpu",
    "outputId": "c6e45cea-c06e-4baa-d723-bcd7a85d9ab5"
   },
   "outputs": [
    {
     "data": {
      "text/plain": [
       "25.215797416856976"
      ]
     },
     "execution_count": 19,
     "metadata": {
      "tags": []
     },
     "output_type": "execute_result"
    }
   ],
   "source": [
    "mean_squared_error(y_test, y_pred_poly)"
   ]
  },
  {
   "cell_type": "code",
   "execution_count": null,
   "metadata": {
    "colab": {
     "base_uri": "https://localhost:8080/",
     "height": 55
    },
    "id": "GhF7br_Unlpw",
    "outputId": "670f56a9-1372-43b3-a5af-c49af5753445"
   },
   "outputs": [
    {
     "data": {
      "text/plain": [
       "6.310156128322766"
      ]
     },
     "execution_count": 20,
     "metadata": {
      "tags": []
     },
     "output_type": "execute_result"
    }
   ],
   "source": [
    "mean_squared_error(y_train, poly_reg.predict(X_train2))"
   ]
  },
  {
   "cell_type": "markdown",
   "metadata": {
    "id": "AbdJeQklnlpx"
   },
   "source": [
    "Lower error than Linear Regression when `degree = 2`. This means that this regression task is probably more complex than what Linear Regression can handle."
   ]
  },
  {
   "cell_type": "markdown",
   "metadata": {
    "id": "wPiXxbY_nlpx"
   },
   "source": [
    "# Error Comparison"
   ]
  },
  {
   "cell_type": "code",
   "execution_count": null,
   "metadata": {
    "colab": {
     "base_uri": "https://localhost:8080/",
     "height": 211
    },
    "id": "Hj9-qvpNnlpx",
    "outputId": "b2f1266c-8d2e-4a17-b0c2-12b67f51c175"
   },
   "outputs": [
    {
     "name": "stdout",
     "output_type": "stream",
     "text": [
      "\n",
      "Linear Regression MSE: \n",
      "\t\tTest: 33.45\tTrain: 19.33\n",
      "\n",
      "Ridge Regression MSE:\n",
      "\t\tTest: 45.10\tTrain: 27.31\n",
      "\n",
      "Polynomial Regression MSE:\n",
      "\t\tTest: 25.22\tTrain: 6.31\n",
      "\n"
     ]
    }
   ],
   "source": [
    "print(\n",
    "\"\"\"\n",
    "Linear Regression MSE: \n",
    "\\t\\tTest: {:.2f}\\tTrain: {:.2f}\\n\n",
    "Ridge Regression MSE:\n",
    "\\t\\tTest: {:.2f}\\tTrain: {:.2f}\\n\n",
    "Polynomial Regression MSE:\n",
    "\\t\\tTest: {:.2f}\\tTrain: {:.2f}\n",
    "\"\"\".format(mean_squared_error(y_test, y_pred_lin),\n",
    "           mean_squared_error(y_train, lin_reg.predict(X_train)),\n",
    "           mean_squared_error(y_test, y_pred_ridge),\n",
    "           mean_squared_error(y_train, ridge.predict(X_train)),\n",
    "           mean_squared_error(y_test, y_pred_poly),\n",
    "           mean_squared_error(y_train, poly_reg.predict(X_train2)))\n",
    ")"
   ]
  },
  {
   "cell_type": "markdown",
   "metadata": {
    "id": "vK3L5RyXnlpz"
   },
   "source": [
    "# SGD Example"
   ]
  },
  {
   "cell_type": "code",
   "execution_count": null,
   "metadata": {
    "colab": {
     "base_uri": "https://localhost:8080/",
     "height": 55
    },
    "id": "IMcxNO95nlpz",
    "outputId": "90d08e77-feb8-4ebe-a4a4-67c9388731a6"
   },
   "outputs": [
    {
     "data": {
      "text/plain": [
       "24.734051437720947"
      ]
     },
     "execution_count": 22,
     "metadata": {
      "tags": []
     },
     "output_type": "execute_result"
    }
   ],
   "source": [
    "from sklearn.linear_model import SGDRegressor\n",
    "from sklearn.pipeline import make_pipeline\n",
    "from sklearn.preprocessing import StandardScaler\n",
    "\n",
    "sgd = make_pipeline(PolynomialFeatures(degree=2), \n",
    "                    StandardScaler(), \n",
    "                    SGDRegressor(random_state=42))\n",
    "sgd.fit(X_train, y_train)\n",
    "mean_squared_error(y_test, sgd.predict(X_test))"
   ]
  },
  {
   "cell_type": "code",
   "execution_count": null,
   "metadata": {
    "colab": {
     "base_uri": "https://localhost:8080/",
     "height": 55
    },
    "id": "KnRhqm_4nlp0",
    "outputId": "f702dd6c-fa97-4eea-8d45-47150eae9c43"
   },
   "outputs": [
    {
     "data": {
      "text/plain": [
       "9.951531778644194"
      ]
     },
     "execution_count": 23,
     "metadata": {
      "tags": []
     },
     "output_type": "execute_result"
    }
   ],
   "source": [
    "mean_squared_error(y_train, sgd.predict(X_train))"
   ]
  },
  {
   "cell_type": "markdown",
   "metadata": {
    "id": "Kq6TQKnpnlp1"
   },
   "source": [
    "# Logistic Regression"
   ]
  },
  {
   "cell_type": "code",
   "execution_count": null,
   "metadata": {
    "id": "5Owi_vYynlp1"
   },
   "outputs": [],
   "source": [
    "from sklearn.linear_model import LogisticRegression\n",
    "from sklearn.datasets import load_breast_cancer"
   ]
  },
  {
   "cell_type": "code",
   "execution_count": null,
   "metadata": {
    "colab": {
     "base_uri": "https://localhost:8080/",
     "height": 55
    },
    "id": "ubKLNFdDnlp2",
    "outputId": "2ecba8e7-435c-4ea3-a383-6b80badf90f6"
   },
   "outputs": [
    {
     "data": {
      "text/plain": [
       "dict_keys(['data', 'target', 'target_names', 'DESCR', 'feature_names', 'filename'])"
      ]
     },
     "execution_count": 25,
     "metadata": {
      "tags": []
     },
     "output_type": "execute_result"
    }
   ],
   "source": [
    "cancer = load_breast_cancer()\n",
    "cancer.keys()"
   ]
  },
  {
   "cell_type": "code",
   "execution_count": null,
   "metadata": {
    "colab": {
     "base_uri": "https://localhost:8080/",
     "height": 1000
    },
    "id": "yIHIVyE5nlp4",
    "outputId": "c48db86c-219b-4973-d230-9728dbba12f7"
   },
   "outputs": [
    {
     "name": "stdout",
     "output_type": "stream",
     "text": [
      ".. _breast_cancer_dataset:\n",
      "\n",
      "Breast cancer wisconsin (diagnostic) dataset\n",
      "--------------------------------------------\n",
      "\n",
      "**Data Set Characteristics:**\n",
      "\n",
      "    :Number of Instances: 569\n",
      "\n",
      "    :Number of Attributes: 30 numeric, predictive attributes and the class\n",
      "\n",
      "    :Attribute Information:\n",
      "        - radius (mean of distances from center to points on the perimeter)\n",
      "        - texture (standard deviation of gray-scale values)\n",
      "        - perimeter\n",
      "        - area\n",
      "        - smoothness (local variation in radius lengths)\n",
      "        - compactness (perimeter^2 / area - 1.0)\n",
      "        - concavity (severity of concave portions of the contour)\n",
      "        - concave points (number of concave portions of the contour)\n",
      "        - symmetry \n",
      "        - fractal dimension (\"coastline approximation\" - 1)\n",
      "\n",
      "        The mean, standard error, and \"worst\" or largest (mean of the three\n",
      "        largest values) of these features were computed for each image,\n",
      "        resulting in 30 features.  For instance, field 3 is Mean Radius, field\n",
      "        13 is Radius SE, field 23 is Worst Radius.\n",
      "\n",
      "        - class:\n",
      "                - WDBC-Malignant\n",
      "                - WDBC-Benign\n",
      "\n",
      "    :Summary Statistics:\n",
      "\n",
      "    ===================================== ====== ======\n",
      "                                           Min    Max\n",
      "    ===================================== ====== ======\n",
      "    radius (mean):                        6.981  28.11\n",
      "    texture (mean):                       9.71   39.28\n",
      "    perimeter (mean):                     43.79  188.5\n",
      "    area (mean):                          143.5  2501.0\n",
      "    smoothness (mean):                    0.053  0.163\n",
      "    compactness (mean):                   0.019  0.345\n",
      "    concavity (mean):                     0.0    0.427\n",
      "    concave points (mean):                0.0    0.201\n",
      "    symmetry (mean):                      0.106  0.304\n",
      "    fractal dimension (mean):             0.05   0.097\n",
      "    radius (standard error):              0.112  2.873\n",
      "    texture (standard error):             0.36   4.885\n",
      "    perimeter (standard error):           0.757  21.98\n",
      "    area (standard error):                6.802  542.2\n",
      "    smoothness (standard error):          0.002  0.031\n",
      "    compactness (standard error):         0.002  0.135\n",
      "    concavity (standard error):           0.0    0.396\n",
      "    concave points (standard error):      0.0    0.053\n",
      "    symmetry (standard error):            0.008  0.079\n",
      "    fractal dimension (standard error):   0.001  0.03\n",
      "    radius (worst):                       7.93   36.04\n",
      "    texture (worst):                      12.02  49.54\n",
      "    perimeter (worst):                    50.41  251.2\n",
      "    area (worst):                         185.2  4254.0\n",
      "    smoothness (worst):                   0.071  0.223\n",
      "    compactness (worst):                  0.027  1.058\n",
      "    concavity (worst):                    0.0    1.252\n",
      "    concave points (worst):               0.0    0.291\n",
      "    symmetry (worst):                     0.156  0.664\n",
      "    fractal dimension (worst):            0.055  0.208\n",
      "    ===================================== ====== ======\n",
      "\n",
      "    :Missing Attribute Values: None\n",
      "\n",
      "    :Class Distribution: 212 - Malignant, 357 - Benign\n",
      "\n",
      "    :Creator:  Dr. William H. Wolberg, W. Nick Street, Olvi L. Mangasarian\n",
      "\n",
      "    :Donor: Nick Street\n",
      "\n",
      "    :Date: November, 1995\n",
      "\n",
      "This is a copy of UCI ML Breast Cancer Wisconsin (Diagnostic) datasets.\n",
      "https://goo.gl/U2Uwz2\n",
      "\n",
      "Features are computed from a digitized image of a fine needle\n",
      "aspirate (FNA) of a breast mass.  They describe\n",
      "characteristics of the cell nuclei present in the image.\n",
      "\n",
      "Separating plane described above was obtained using\n",
      "Multisurface Method-Tree (MSM-T) [K. P. Bennett, \"Decision Tree\n",
      "Construction Via Linear Programming.\" Proceedings of the 4th\n",
      "Midwest Artificial Intelligence and Cognitive Science Society,\n",
      "pp. 97-101, 1992], a classification method which uses linear\n",
      "programming to construct a decision tree.  Relevant features\n",
      "were selected using an exhaustive search in the space of 1-4\n",
      "features and 1-3 separating planes.\n",
      "\n",
      "The actual linear program used to obtain the separating plane\n",
      "in the 3-dimensional space is that described in:\n",
      "[K. P. Bennett and O. L. Mangasarian: \"Robust Linear\n",
      "Programming Discrimination of Two Linearly Inseparable Sets\",\n",
      "Optimization Methods and Software 1, 1992, 23-34].\n",
      "\n",
      "This database is also available through the UW CS ftp server:\n",
      "\n",
      "ftp ftp.cs.wisc.edu\n",
      "cd math-prog/cpo-dataset/machine-learn/WDBC/\n",
      "\n",
      ".. topic:: References\n",
      "\n",
      "   - W.N. Street, W.H. Wolberg and O.L. Mangasarian. Nuclear feature extraction \n",
      "     for breast tumor diagnosis. IS&T/SPIE 1993 International Symposium on \n",
      "     Electronic Imaging: Science and Technology, volume 1905, pages 861-870,\n",
      "     San Jose, CA, 1993.\n",
      "   - O.L. Mangasarian, W.N. Street and W.H. Wolberg. Breast cancer diagnosis and \n",
      "     prognosis via linear programming. Operations Research, 43(4), pages 570-577, \n",
      "     July-August 1995.\n",
      "   - W.H. Wolberg, W.N. Street, and O.L. Mangasarian. Machine learning techniques\n",
      "     to diagnose breast cancer from fine-needle aspirates. Cancer Letters 77 (1994) \n",
      "     163-171.\n"
     ]
    }
   ],
   "source": [
    "print(cancer.DESCR)"
   ]
  },
  {
   "cell_type": "code",
   "execution_count": null,
   "metadata": {
    "colab": {
     "base_uri": "https://localhost:8080/",
     "height": 55
    },
    "id": "uP6kDZdfnlp5",
    "outputId": "4df1c6a5-b92e-44c3-8650-1ffda0d08c1d"
   },
   "outputs": [
    {
     "name": "stdout",
     "output_type": "stream",
     "text": [
      "(569, 30)\n"
     ]
    }
   ],
   "source": [
    "X = cancer['data']\n",
    "y = cancer['target']\n",
    "X_train, X_test, y_train, y_test = train_test_split(X, y, test_size=0.2, random_state=42)\n",
    "print(X.shape)"
   ]
  },
  {
   "cell_type": "code",
   "execution_count": null,
   "metadata": {
    "id": "SzLJkZGynlp6"
   },
   "outputs": [],
   "source": [
    "from sklearn.linear_model import LogisticRegression"
   ]
  },
  {
   "cell_type": "code",
   "execution_count": null,
   "metadata": {
    "id": "EYmpU-_snlp7"
   },
   "outputs": [],
   "source": [
    "log_clf = make_pipeline(StandardScaler(), LogisticRegression())\n",
    "log_clf.fit(X_train, y_train)\n",
    "\n",
    "y_pred_log = log_clf.predict(X_test)"
   ]
  },
  {
   "cell_type": "code",
   "execution_count": null,
   "metadata": {
    "id": "tU5BSiepnlp8"
   },
   "outputs": [],
   "source": [
    "from sklearn.metrics import confusion_matrix, precision_score, recall_score, roc_auc_score,  f1_score"
   ]
  },
  {
   "cell_type": "code",
   "execution_count": null,
   "metadata": {
    "colab": {
     "base_uri": "https://localhost:8080/",
     "height": 72
    },
    "id": "MyOz8_xtnlp9",
    "outputId": "02d9269f-bbd7-4c69-f5c4-f54035b72e66"
   },
   "outputs": [
    {
     "data": {
      "text/plain": [
       "array([[41,  2],\n",
       "       [ 1, 70]])"
      ]
     },
     "execution_count": 31,
     "metadata": {
      "tags": []
     },
     "output_type": "execute_result"
    }
   ],
   "source": [
    "confusion_matrix(y_test, y_pred_log) #actual on left, predicted on top"
   ]
  },
  {
   "cell_type": "code",
   "execution_count": null,
   "metadata": {
    "colab": {
     "base_uri": "https://localhost:8080/",
     "height": 55
    },
    "id": "AeUup1bunlp-",
    "outputId": "8d2f21d0-de97-4c69-e534-fadb5753fa89"
   },
   "outputs": [
    {
     "data": {
      "text/plain": [
       "0.9722222222222222"
      ]
     },
     "execution_count": 32,
     "metadata": {
      "tags": []
     },
     "output_type": "execute_result"
    }
   ],
   "source": [
    "precision_score(y_test, y_pred_log)"
   ]
  },
  {
   "cell_type": "code",
   "execution_count": null,
   "metadata": {
    "colab": {
     "base_uri": "https://localhost:8080/",
     "height": 55
    },
    "id": "-xgZvOhXnlp-",
    "outputId": "f5e9d007-85e7-4065-8fdc-5ea403b8c1e2"
   },
   "outputs": [
    {
     "data": {
      "text/plain": [
       "0.9859154929577465"
      ]
     },
     "execution_count": 33,
     "metadata": {
      "tags": []
     },
     "output_type": "execute_result"
    }
   ],
   "source": [
    "recall_score(y_test, y_pred_log)"
   ]
  },
  {
   "cell_type": "code",
   "execution_count": null,
   "metadata": {
    "colab": {
     "base_uri": "https://localhost:8080/",
     "height": 55
    },
    "id": "i4CF1iTsnlp_",
    "outputId": "b121ef8b-a97a-4b63-9a8b-9de3f95abea4"
   },
   "outputs": [
    {
     "data": {
      "text/plain": [
       "0.969701932525385"
      ]
     },
     "execution_count": 34,
     "metadata": {
      "tags": []
     },
     "output_type": "execute_result"
    }
   ],
   "source": [
    "roc_auc_score(y_test, y_pred_log)"
   ]
  },
  {
   "cell_type": "code",
   "execution_count": null,
   "metadata": {
    "colab": {
     "base_uri": "https://localhost:8080/",
     "height": 55
    },
    "id": "lFXXJl-FnlqB",
    "outputId": "7c3704dc-1975-4d27-8fc5-6d8008989ad0"
   },
   "outputs": [
    {
     "data": {
      "text/plain": [
       "0.979020979020979"
      ]
     },
     "execution_count": 35,
     "metadata": {
      "tags": []
     },
     "output_type": "execute_result"
    }
   ],
   "source": [
    "f1_score(y_test, y_pred_log)"
   ]
  },
  {
   "cell_type": "markdown",
   "metadata": {
    "id": "8khHDSWXnlqC"
   },
   "source": [
    "# Decision Boundary"
   ]
  },
  {
   "cell_type": "code",
   "execution_count": null,
   "metadata": {
    "id": "wiEiB_EXnlqC"
   },
   "outputs": [],
   "source": [
    "from sklearn.datasets import make_classification\n",
    "import numpy as np\n",
    "import matplotlib.pyplot as plt\n",
    "import seaborn as sns"
   ]
  },
  {
   "cell_type": "code",
   "execution_count": null,
   "metadata": {
    "id": "9x18G-0onlqD"
   },
   "outputs": [],
   "source": [
    "np.random.seed(0)\n",
    "X, y = make_classification(n_features=2, n_informative=2, n_redundant=0, n_repeated=0)"
   ]
  },
  {
   "cell_type": "code",
   "execution_count": null,
   "metadata": {
    "colab": {
     "base_uri": "https://localhost:8080/",
     "height": 562
    },
    "id": "35ILoG8AnlqE",
    "outputId": "2eb2f738-19a7-48ec-d9bd-9ea060c24845"
   },
   "outputs": [
    {
     "data": {
      "image/png": "[encoded data removed]",
      "text/plain": [
       "<Figure size 900x600 with 1 Axes>"
      ]
     },
     "metadata": {
      "needs_background": "light",
      "tags": []
     },
     "output_type": "display_data"
    }
   ],
   "source": [
    "log_clf = LogisticRegression()\n",
    "log_clf.fit(X, y)\n",
    "\n",
    "x0 = np.linspace(-4, 4, 100)\n",
    "x1 = np.linspace(-4, 4, 100)\n",
    "\n",
    "mesh0, mesh1 = np.meshgrid(x0, x1)\n",
    "mesh_X = np.hstack([mesh0.reshape(-1, 1), mesh1.reshape(-1, 1)])\n",
    "decision_pred = log_clf.predict(mesh_X).reshape(100, 100)\n",
    "\n",
    "fig, ax = plt.subplots(dpi = 150)\n",
    "plt.contourf(x0, x1, decision_pred, colors=[[.9, .4, .4, .5], [.9, .4, .4, .5], [.4, .4, .9, .5], [.4, .4, .9, .5]])\n",
    "plt.scatter(X[:, 0], X[:, 1], c = np.where(y, \"blue\", \"red\"))\n",
    "plt.show()"
   ]
  },
  {
   "cell_type": "code",
   "execution_count": null,
   "metadata": {
    "colab": {
     "base_uri": "https://localhost:8080/",
     "height": 562
    },
    "id": "8IoE5CjJnlqF",
    "outputId": "609306c1-c61d-4e02-e2e3-be70786c0d73"
   },
   "outputs": [
    {
     "data": {
      "image/png": "[encoded data removed]",
      "text/plain": [
       "<Figure size 900x600 with 1 Axes>"
      ]
     },
     "metadata": {
      "needs_background": "light",
      "tags": []
     },
     "output_type": "display_data"
    }
   ],
   "source": [
    "log_clf = make_pipeline(PolynomialFeatures(2), LogisticRegression())\n",
    "log_clf.fit(X, y)\n",
    "\n",
    "x0 = np.linspace(-4, 4, 100)\n",
    "x1 = np.linspace(-4, 4, 100)\n",
    "\n",
    "mesh0, mesh1 = np.meshgrid(x0, x1)\n",
    "mesh_X = np.hstack([mesh0.reshape(-1, 1), mesh1.reshape(-1, 1)])\n",
    "decision_pred = log_clf.predict(mesh_X).reshape(100, 100)\n",
    "\n",
    "fig, ax = plt.subplots(dpi = 150)\n",
    "plt.contourf(x0, x1, decision_pred, colors=[[.9, .4, .4, .5], [.9, .4, .4, .5], [.4, .4, .9, .5], [.4, .4, .9, .5]])\n",
    "plt.scatter(X[:, 0], X[:, 1], c = np.where(y, \"blue\", \"red\"))\n",
    "plt.show()"
   ]
  },
  {
   "cell_type": "markdown",
   "metadata": {
    "id": "bNWge7ZhnlqG"
   },
   "source": [
    "# Extras"
   ]
  },
  {
   "cell_type": "code",
   "execution_count": null,
   "metadata": {
    "id": "I96-kxgpnlqG"
   },
   "outputs": [],
   "source": [
    "from sklearn.datasets import make_regression\n",
    "import pandas as pd"
   ]
  },
  {
   "cell_type": "code",
   "execution_count": null,
   "metadata": {
    "id": "w0hRZ24YnlqH"
   },
   "outputs": [],
   "source": [
    "def make_data(num_features, num_samples=100): #Artificial data generation\n",
    "    num_features = max(4, num_features)\n",
    "    labels = [f\"X{i}\" for i in range(1, num_features + 1)] + [\"y\"]\n",
    "    X, y, coef = make_regression(n_samples=num_samples, n_features=num_features, n_informative=num_features, noise=1, coef=True, random_state=42)\n",
    "    data = pd.DataFrame(np.concatenate([X, y.reshape((-1,1))], axis=1), columns=labels)\n",
    "\n",
    "    data['X1'] = pd.cut(data['X1'], 4, labels=[\"Blue\", \"Black\", \"Green\", \"Red\"])\n",
    "    data['X2'] = pd.cut(data['X2'], 2, labels=[\"Small\", \"Large\"])\n",
    "    data['X3'] = (data['X3'] + np.abs(np.min(data['X3']))) \n",
    "    data['X4'] = np.log(data['X4'] + np.abs(np.min(data['X4'])) + 40) * 50\n",
    "    return data"
   ]
  },
  {
   "cell_type": "code",
   "execution_count": null,
   "metadata": {
    "colab": {
     "base_uri": "https://localhost:8080/",
     "height": 226
    },
    "id": "uHIuodwvnlqI",
    "outputId": "a7409e69-5377-4804-ca09-7244590b988a"
   },
   "outputs": [
    {
     "data": {
      "text/html": [
       "<div>\n",
       "<style scoped>\n",
       "    .dataframe tbody tr th:only-of-type {\n",
       "        vertical-align: middle;\n",
       "    }\n",
       "\n",
       "    .dataframe tbody tr th {\n",
       "        vertical-align: top;\n",
       "    }\n",
       "\n",
       "    .dataframe thead th {\n",
       "        text-align: right;\n",
       "    }\n",
       "</style>\n",
       "<table border=\"1\" class=\"dataframe\">\n",
       "  <thead>\n",
       "    <tr style=\"text-align: right;\">\n",
       "      <th></th>\n",
       "      <th>X1</th>\n",
       "      <th>X2</th>\n",
       "      <th>X3</th>\n",
       "      <th>X4</th>\n",
       "      <th>X5</th>\n",
       "      <th>X6</th>\n",
       "      <th>X7</th>\n",
       "      <th>y</th>\n",
       "    </tr>\n",
       "  </thead>\n",
       "  <tbody>\n",
       "    <tr>\n",
       "      <th>0</th>\n",
       "      <td>Green</td>\n",
       "      <td>Large</td>\n",
       "      <td>4.764297</td>\n",
       "      <td>187.165432</td>\n",
       "      <td>-0.138264</td>\n",
       "      <td>-0.234153</td>\n",
       "      <td>0.647689</td>\n",
       "      <td>190.223085</td>\n",
       "    </tr>\n",
       "    <tr>\n",
       "      <th>1</th>\n",
       "      <td>Green</td>\n",
       "      <td>Small</td>\n",
       "      <td>3.288666</td>\n",
       "      <td>186.987051</td>\n",
       "      <td>-1.211016</td>\n",
       "      <td>-0.860413</td>\n",
       "      <td>-0.651836</td>\n",
       "      <td>-59.750756</td>\n",
       "    </tr>\n",
       "    <tr>\n",
       "      <th>2</th>\n",
       "      <td>Green</td>\n",
       "      <td>Large</td>\n",
       "      <td>2.763610</td>\n",
       "      <td>187.833104</td>\n",
       "      <td>-0.856084</td>\n",
       "      <td>0.478980</td>\n",
       "      <td>0.071566</td>\n",
       "      <td>123.266804</td>\n",
       "    </tr>\n",
       "    <tr>\n",
       "      <th>3</th>\n",
       "      <td>Black</td>\n",
       "      <td>Small</td>\n",
       "      <td>3.455361</td>\n",
       "      <td>187.645297</td>\n",
       "      <td>-0.446515</td>\n",
       "      <td>-1.245739</td>\n",
       "      <td>0.856399</td>\n",
       "      <td>-155.960057</td>\n",
       "    </tr>\n",
       "    <tr>\n",
       "      <th>4</th>\n",
       "      <td>Black</td>\n",
       "      <td>Small</td>\n",
       "      <td>3.440327</td>\n",
       "      <td>187.523941</td>\n",
       "      <td>-0.981509</td>\n",
       "      <td>-0.600217</td>\n",
       "      <td>0.462103</td>\n",
       "      <td>-71.080200</td>\n",
       "    </tr>\n",
       "  </tbody>\n",
       "</table>\n",
       "</div>"
      ],
      "text/plain": [
       "      X1     X2        X3          X4        X5        X6        X7           y\n",
       "0  Green  Large  4.764297  187.165432 -0.138264 -0.234153  0.647689  190.223085\n",
       "1  Green  Small  3.288666  186.987051 -1.211016 -0.860413 -0.651836  -59.750756\n",
       "2  Green  Large  2.763610  187.833104 -0.856084  0.478980  0.071566  123.266804\n",
       "3  Black  Small  3.455361  187.645297 -0.446515 -1.245739  0.856399 -155.960057\n",
       "4  Black  Small  3.440327  187.523941 -0.981509 -0.600217  0.462103  -71.080200"
      ]
     },
     "execution_count": 42,
     "metadata": {
      "tags": []
     },
     "output_type": "execute_result"
    }
   ],
   "source": [
    "df = make_data(7)\n",
    "df.head()"
   ]
  },
  {
   "cell_type": "code",
   "execution_count": null,
   "metadata": {
    "colab": {
     "base_uri": "https://localhost:8080/",
     "height": 298
    },
    "id": "RE3YxhARnlqJ",
    "outputId": "355b4793-13e3-44ed-8f16-db334a01bf86"
   },
   "outputs": [
    {
     "name": "stdout",
     "output_type": "stream",
     "text": [
      "<class 'pandas.core.frame.DataFrame'>\n",
      "RangeIndex: 100 entries, 0 to 99\n",
      "Data columns (total 8 columns):\n",
      " #   Column  Non-Null Count  Dtype   \n",
      "---  ------  --------------  -----   \n",
      " 0   X1      100 non-null    category\n",
      " 1   X2      100 non-null    category\n",
      " 2   X3      100 non-null    float64 \n",
      " 3   X4      100 non-null    float64 \n",
      " 4   X5      100 non-null    float64 \n",
      " 5   X6      100 non-null    float64 \n",
      " 6   X7      100 non-null    float64 \n",
      " 7   y       100 non-null    float64 \n",
      "dtypes: category(2), float64(6)\n",
      "memory usage: 5.3 KB\n"
     ]
    }
   ],
   "source": [
    "df.info()"
   ]
  },
  {
   "cell_type": "markdown",
   "metadata": {
    "id": "d3D9vCBtnlqJ"
   },
   "source": [
    "- 2 categorical variables\n",
    "- 5 numerical variables\n",
    "\n",
    "**The response variable (y) is quantitative, therefore this is a regression task**"
   ]
  },
  {
   "cell_type": "code",
   "execution_count": null,
   "metadata": {
    "colab": {
     "base_uri": "https://localhost:8080/",
     "height": 1000
    },
    "id": "shy-LpNTnlqK",
    "outputId": "70820969-abd1-4509-d036-b0fb6f737c19"
   },
   "outputs": [
    {
     "data": {
      "text/plain": [
       "<seaborn.axisgrid.PairGrid at 0x7fd4c4ea9e48>"
      ]
     },
     "execution_count": 44,
     "metadata": {
      "tags": []
     },
     "output_type": "execute_result"
    },
    {
     "data": {
      "image/png": "[encoded data removed]",
      "text/plain": [
       "<Figure size 1080x1080 with 42 Axes>"
      ]
     },
     "metadata": {
      "needs_background": "light",
      "tags": []
     },
     "output_type": "display_data"
    }
   ],
   "source": [
    "sns.pairplot(df)"
   ]
  },
  {
   "cell_type": "markdown",
   "metadata": {
    "id": "x1hlf4SInlqL"
   },
   "source": [
    "Seeing if there are any relationships between the response and the independent variables"
   ]
  },
  {
   "cell_type": "markdown",
   "metadata": {
    "id": "6KBzF56JnlqL"
   },
   "source": [
    "\n",
    "Before actually using any model, we have to clean the data. Linear Regression doesn't know what \"Green\" is. Certain regression models also work best when the features have a similar mean and scale (i.e. we have to normalize features)."
   ]
  },
  {
   "cell_type": "code",
   "execution_count": null,
   "metadata": {
    "colab": {
     "base_uri": "https://localhost:8080/",
     "height": 263
    },
    "id": "xoGBA09nnlqL",
    "outputId": "75f68520-6d1b-4a51-a1cd-56012da6cc7f"
   },
   "outputs": [
    {
     "name": "stdout",
     "output_type": "stream",
     "text": [
      "      X1     X2        X3          X4        X5        X6        X7\n",
      "0  Green  Large  4.764297  187.165432 -0.138264 -0.234153  0.647689\n",
      "1  Green  Small  3.288666  186.987051 -1.211016 -0.860413 -0.651836\n",
      "2  Green  Large  2.763610  187.833104 -0.856084  0.478980  0.071566\n",
      "3  Black  Small  3.455361  187.645297 -0.446515 -1.245739  0.856399\n",
      "4  Black  Small  3.440327  187.523941 -0.981509 -0.600217  0.462103\n",
      "\n",
      "0    190.223085\n",
      "1    -59.750756\n",
      "2    123.266804\n",
      "3   -155.960057\n",
      "4    -71.080200\n",
      "Name: y, dtype: float64\n"
     ]
    }
   ],
   "source": [
    "X = df.drop(\"y\", axis = 1)\n",
    "y = df[\"y\"]\n",
    "print(X.head())\n",
    "print()\n",
    "print(y.head())"
   ]
  },
  {
   "cell_type": "markdown",
   "metadata": {
    "id": "IMYpgv_LnlqM"
   },
   "source": [
    "## One Hot Encoding\n",
    "\n",
    "This is the process that converts categorical information, i.e. \"Green\", \"Small\", into numerical information. `OneHotEncoder` creates a new column for each class and assigns 1 if that particular instance has that class."
   ]
  },
  {
   "cell_type": "code",
   "execution_count": null,
   "metadata": {
    "id": "PBgHRsSynlqM"
   },
   "outputs": [],
   "source": [
    "from sklearn.preprocessing import OneHotEncoder"
   ]
  },
  {
   "cell_type": "code",
   "execution_count": null,
   "metadata": {
    "colab": {
     "base_uri": "https://localhost:8080/",
     "height": 107
    },
    "id": "eOF2Hh3PnlqN",
    "outputId": "61c1502e-97be-48db-c650-0529943a5c41"
   },
   "outputs": [
    {
     "data": {
      "text/plain": [
       "array([[1., 0., 0.],\n",
       "       [0., 1., 0.],\n",
       "       [0., 0., 1.],\n",
       "       [0., 1., 0.]])"
      ]
     },
     "execution_count": 47,
     "metadata": {
      "tags": []
     },
     "output_type": "execute_result"
    }
   ],
   "source": [
    "enc = OneHotEncoder(sparse=False)\n",
    "enc.fit_transform([[\"Blue\"], # 4x1 matrix originally with 3 classes\n",
    "                   [\"Green\"],\n",
    "                   [\"Red\"],\n",
    "                   [\"Green\"]])\n",
    "# output is 4x3 matrix, each column represents 1 class"
   ]
  },
  {
   "cell_type": "code",
   "execution_count": null,
   "metadata": {
    "colab": {
     "base_uri": "https://localhost:8080/",
     "height": 1000
    },
    "id": "w4nwcaQ9nlqN",
    "outputId": "ae5673e8-b022-491d-ab32-5b154ad50d19"
   },
   "outputs": [
    {
     "data": {
      "text/plain": [
       "array([[0., 0., 1., 0., 1., 0.],\n",
       "       [0., 0., 1., 0., 0., 1.],\n",
       "       [0., 0., 1., 0., 1., 0.],\n",
       "       [1., 0., 0., 0., 0., 1.],\n",
       "       [1., 0., 0., 0., 0., 1.],\n",
       "       [1., 0., 0., 0., 1., 0.],\n",
       "       [0., 0., 1., 0., 0., 1.],\n",
       "       [1., 0., 0., 0., 0., 1.],\n",
       "       [1., 0., 0., 0., 1., 0.],\n",
       "       [0., 1., 0., 0., 1., 0.],\n",
       "       [0., 1., 0., 0., 0., 1.],\n",
       "       [0., 1., 0., 0., 0., 1.],\n",
       "       [1., 0., 0., 0., 0., 1.],\n",
       "       [0., 1., 0., 0., 1., 0.],\n",
       "       [1., 0., 0., 0., 0., 1.],\n",
       "       [0., 0., 1., 0., 0., 1.],\n",
       "       [0., 1., 0., 0., 0., 1.],\n",
       "       [0., 1., 0., 0., 1., 0.],\n",
       "       [1., 0., 0., 0., 0., 1.],\n",
       "       [1., 0., 0., 0., 0., 1.],\n",
       "       [0., 1., 0., 0., 1., 0.],\n",
       "       [1., 0., 0., 0., 1., 0.],\n",
       "       [0., 1., 0., 0., 0., 1.],\n",
       "       [1., 0., 0., 0., 0., 1.],\n",
       "       [1., 0., 0., 0., 0., 1.],\n",
       "       [0., 1., 0., 0., 0., 1.],\n",
       "       [0., 1., 0., 0., 0., 1.],\n",
       "       [0., 1., 0., 0., 0., 1.],\n",
       "       [0., 1., 0., 0., 1., 0.],\n",
       "       [0., 0., 1., 0., 1., 0.],\n",
       "       [0., 1., 0., 0., 0., 1.],\n",
       "       [1., 0., 0., 0., 0., 1.],\n",
       "       [0., 1., 0., 0., 0., 1.],\n",
       "       [0., 0., 1., 0., 0., 1.],\n",
       "       [1., 0., 0., 0., 1., 0.],\n",
       "       [0., 1., 0., 0., 1., 0.],\n",
       "       [1., 0., 0., 0., 1., 0.],\n",
       "       [0., 1., 0., 0., 0., 1.],\n",
       "       [0., 1., 0., 0., 0., 1.],\n",
       "       [0., 1., 0., 0., 1., 0.],\n",
       "       [1., 0., 0., 0., 1., 0.],\n",
       "       [1., 0., 0., 0., 0., 1.],\n",
       "       [1., 0., 0., 0., 0., 1.],\n",
       "       [1., 0., 0., 0., 1., 0.],\n",
       "       [1., 0., 0., 0., 0., 1.],\n",
       "       [0., 1., 0., 0., 1., 0.],\n",
       "       [1., 0., 0., 0., 1., 0.],\n",
       "       [0., 1., 0., 0., 0., 1.],\n",
       "       [0., 1., 0., 0., 1., 0.],\n",
       "       [0., 1., 0., 0., 0., 1.],\n",
       "       [0., 1., 0., 0., 1., 0.],\n",
       "       [1., 0., 0., 0., 1., 0.],\n",
       "       [0., 0., 1., 0., 0., 1.],\n",
       "       [0., 1., 0., 0., 1., 0.],\n",
       "       [0., 0., 1., 0., 0., 1.],\n",
       "       [1., 0., 0., 0., 0., 1.],\n",
       "       [1., 0., 0., 0., 0., 1.],\n",
       "       [1., 0., 0., 0., 0., 1.],\n",
       "       [1., 0., 0., 0., 1., 0.],\n",
       "       [1., 0., 0., 0., 1., 0.],\n",
       "       [1., 0., 0., 0., 0., 1.],\n",
       "       [1., 0., 0., 0., 1., 0.],\n",
       "       [0., 0., 1., 0., 1., 0.],\n",
       "       [1., 0., 0., 0., 0., 1.],\n",
       "       [1., 0., 0., 0., 1., 0.],\n",
       "       [0., 1., 0., 0., 0., 1.],\n",
       "       [0., 0., 1., 0., 1., 0.],\n",
       "       [0., 1., 0., 0., 1., 0.],\n",
       "       [0., 1., 0., 0., 1., 0.],\n",
       "       [0., 1., 0., 0., 1., 0.],\n",
       "       [0., 1., 0., 0., 0., 1.],\n",
       "       [1., 0., 0., 0., 0., 1.],\n",
       "       [0., 1., 0., 0., 0., 1.],\n",
       "       [0., 0., 1., 0., 0., 1.],\n",
       "       [1., 0., 0., 0., 0., 1.],\n",
       "       [1., 0., 0., 0., 0., 1.],\n",
       "       [1., 0., 0., 0., 1., 0.],\n",
       "       [0., 0., 1., 0., 1., 0.],\n",
       "       [1., 0., 0., 0., 1., 0.],\n",
       "       [1., 0., 0., 0., 1., 0.],\n",
       "       [1., 0., 0., 0., 1., 0.],\n",
       "       [0., 1., 0., 0., 0., 1.],\n",
       "       [0., 0., 1., 0., 1., 0.],\n",
       "       [1., 0., 0., 0., 0., 1.],\n",
       "       [1., 0., 0., 0., 1., 0.],\n",
       "       [1., 0., 0., 0., 1., 0.],\n",
       "       [0., 0., 1., 0., 1., 0.],\n",
       "       [0., 0., 1., 0., 0., 1.],\n",
       "       [1., 0., 0., 0., 0., 1.],\n",
       "       [1., 0., 0., 0., 0., 1.],\n",
       "       [1., 0., 0., 0., 0., 1.],\n",
       "       [0., 1., 0., 0., 0., 1.],\n",
       "       [1., 0., 0., 0., 0., 1.],\n",
       "       [0., 0., 0., 1., 1., 0.],\n",
       "       [0., 1., 0., 0., 0., 1.],\n",
       "       [1., 0., 0., 0., 0., 1.],\n",
       "       [1., 0., 0., 0., 1., 0.],\n",
       "       [1., 0., 0., 0., 0., 1.],\n",
       "       [1., 0., 0., 0., 1., 0.],\n",
       "       [0., 0., 1., 0., 0., 1.]])"
      ]
     },
     "execution_count": 48,
     "metadata": {
      "tags": []
     },
     "output_type": "execute_result"
    }
   ],
   "source": [
    "enc = OneHotEncoder(sparse=False)\n",
    "enc.fit_transform(X[[\"X1\", \"X2\"]]) #concatenates all of the columns"
   ]
  },
  {
   "cell_type": "markdown",
   "metadata": {
    "id": "j4kNMNtWnlqO"
   },
   "source": [
    "## Scaling Numeric Variables\n",
    "\n",
    "Scaling is when the features are shifted and scaled. Usually this means the mean of the feature is subtracted from it, and the resulting value is divided by the standard deviation. Some statistical methods require scaling in order to function properly. KNN, Ridge/LASSO/ElasticNet, any Gradient Descent algorithm, etc. need scaling."
   ]
  },
  {
   "cell_type": "code",
   "execution_count": null,
   "metadata": {
    "id": "0x26SDHJnlqO"
   },
   "outputs": [],
   "source": [
    "from sklearn.preprocessing import StandardScaler"
   ]
  },
  {
   "cell_type": "code",
   "execution_count": null,
   "metadata": {
    "colab": {
     "base_uri": "https://localhost:8080/",
     "height": 367
    },
    "id": "18R3zcIZnlqP",
    "outputId": "d8079dc4-f7f7-4710-db21-9ec17ad4b48c"
   },
   "outputs": [
    {
     "name": "stdout",
     "output_type": "stream",
     "text": [
      "Mean and Standard Deviation before scaling\n",
      "X3      3.257893\n",
      "X4    187.560858\n",
      "X5      0.085669\n",
      "X6     -0.094360\n",
      "X7     -0.183141\n",
      "dtype: float64 \n",
      "\n",
      "X3    0.994083\n",
      "X4    1.142518\n",
      "X5    0.968038\n",
      "X6    1.012554\n",
      "X7    1.038662\n",
      "dtype: float64\n",
      "\n",
      "Mean and Standard Deviation after scaling\n",
      "[0. 0. 0. 0. 0.] \n",
      "\n",
      "[1. 1. 1. 1. 1.]\n"
     ]
    }
   ],
   "source": [
    "scaler = StandardScaler()\n",
    "num_X = X.drop(['X1', 'X2'], axis = 1) #have to only take the numeric columns\n",
    "X_scaled = scaler.fit_transform(num_X)\n",
    "\n",
    "print(f\"Mean and Standard Deviation before scaling\\n{num_X.mean()} \\n\\n{num_X.std()}\")\n",
    "\n",
    "print(f\"\\nMean and Standard Deviation after scaling\\n{np.round(X_scaled.mean(axis=0))} \\n\\n{X_scaled.std(axis=0)}\")"
   ]
  },
  {
   "cell_type": "markdown",
   "metadata": {
    "id": "uoEt8a8mnlqQ"
   },
   "source": [
    "## Transformers\n",
    "\n",
    "Scikit-learn has a construct called a transformer, which can (loosely defined) take an input and can transform them in some way. `OneHotEncoder()`, `StandardScaler()`, `PolynomialFeatures()` are transformers. Transforms *always* have a `fit_transform()` method.\n",
    "\n",
    "`ColumnTransformer()` is a transformer than can apply other transformers to specific columns, then it combines them. This is exactly what we need to combine the output from numeric preprocessing and categorical preprocessing. Doing it this way has some advantages that we'll see later compared to just concatenating the columns using something like `np.concatenate()`. Namely, it can be used in a `Pipeline`."
   ]
  },
  {
   "cell_type": "code",
   "execution_count": null,
   "metadata": {
    "id": "Yx-kelEZnlqQ"
   },
   "outputs": [],
   "source": [
    "from sklearn.compose import ColumnTransformer"
   ]
  },
  {
   "cell_type": "code",
   "execution_count": null,
   "metadata": {
    "colab": {
     "base_uri": "https://localhost:8080/",
     "height": 107
    },
    "id": "zyTYIRyhnlqR",
    "outputId": "31a09b52-42a7-46f9-f526-51c1c970b0cb"
   },
   "outputs": [
    {
     "name": "stdout",
     "output_type": "stream",
     "text": [
      "Before: ['Green' 'Large' 4.764297196477098 187.16543153149948 -0.13826430117118466\n",
      " -0.23415337472333597 0.6476885381006925]\n",
      "After: [ 0.          0.          1.          0.          1.          0.\n",
      "  1.52300483 -0.34784429 -0.23249293 -0.13875516  0.80393419]\n"
     ]
    }
   ],
   "source": [
    "scaler = StandardScaler()\n",
    "enc = OneHotEncoder()\n",
    "ct = ColumnTransformer(\n",
    "    [\n",
    "        (\"cat\", enc, [\"X1\", \"X2\"]), \n",
    "        (\"num\", scaler, [\"X3\", \"X4\", \"X5\", \"X6\", \"X7\"]) #could also use sklearn.compose.make_column_selector() to select columns\n",
    "    ]\n",
    ")\n",
    "\n",
    "print(\"Before:\", X.values[0])\n",
    "print(\"After:\", ct.fit_transform(X)[0])"
   ]
  },
  {
   "cell_type": "markdown",
   "metadata": {
    "id": "Vnf48xsJnlqS"
   },
   "source": [
    "## Pipelines\n",
    "\n",
    "`Scikit-learn`'s API has a construct known as a `Pipeline`. A `Pipeline` works with any scikit-learn object that has a `fit_transform()` method. Objects that are referred to as *transformers* have `fit_transform()` methods. Basically, any object that takes in input and can return an output is a transfomer.\n",
    "\n",
    "All steps in the Pipeline must be a transformer, except for the last step, which is allowed to be a estimator (which only has a `fit()` method and not a `transform()` method)."
   ]
  },
  {
   "cell_type": "markdown",
   "metadata": {
    "id": "9nZelrY8nlqS"
   },
   "source": [
    "## Learning Curves"
   ]
  },
  {
   "cell_type": "markdown",
   "metadata": {
    "id": "XNeU0Ds7nlqS"
   },
   "source": [
    "Learning Curves plot the number of instances used for training on the x-axis and the error on the y-axis. They provide us more information about bias and variance and whether or not getting more training data would help the model."
   ]
  },
  {
   "cell_type": "code",
   "execution_count": null,
   "metadata": {
    "id": "mWZl7YA-nlqS"
   },
   "outputs": [],
   "source": [
    "X = boston['data']\n",
    "y = boston['target']"
   ]
  },
  {
   "cell_type": "code",
   "execution_count": null,
   "metadata": {
    "id": "E2dP2PJznlqT"
   },
   "outputs": [],
   "source": [
    "from sklearn.model_selection import learning_curve"
   ]
  },
  {
   "cell_type": "code",
   "execution_count": null,
   "metadata": {
    "id": "BMh5nrclnlqU"
   },
   "outputs": [],
   "source": [
    "def plot_learning_curve(model, X, y):\n",
    "    train_sizes, train_scores, test_scores = learning_curve(model, X, y, scoring=\"neg_mean_squared_error\", #the original data, automatically splits into train/test\n",
    "                                                            train_sizes=np.array(np.linspace(0.2, 1, 15)), cv=50, n_jobs=-1)\n",
    "\n",
    "\n",
    "    plt.plot(train_sizes, -train_scores.mean(axis=1), 'o-', color=\"r\")\n",
    "    plt.plot(train_sizes, -test_scores.mean(axis=1), 'o-', color=\"g\")\n",
    "    plt.ylim((0, 1000))\n",
    "    plt.show()"
   ]
  },
  {
   "cell_type": "code",
   "execution_count": null,
   "metadata": {
    "colab": {
     "base_uri": "https://localhost:8080/",
     "height": 290
    },
    "id": "dxW9xcjVnlqV",
    "outputId": "911f35a2-85fa-42c1-c772-abd73878c94f"
   },
   "outputs": [
    {
     "data": {
      "image/png": "[encoded data removed]",
      "text/plain": [
       "<Figure size 432x288 with 1 Axes>"
      ]
     },
     "metadata": {
      "needs_background": "light",
      "tags": []
     },
     "output_type": "display_data"
    }
   ],
   "source": [
    "plot_learning_curve(make_pipeline(StandardScaler(), SGDRegressor()), X, y)"
   ]
  },
  {
   "cell_type": "code",
   "execution_count": null,
   "metadata": {
    "colab": {
     "base_uri": "https://localhost:8080/",
     "height": 290
    },
    "id": "0pBJKKX3nlqW",
    "outputId": "e5f626ec-a774-47f8-fa97-0bc271bb6abf"
   },
   "outputs": [
    {
     "data": {
      "image/png": "[encoded data removed]",
      "text/plain": [
       "<Figure size 432x288 with 1 Axes>"
      ]
     },
     "metadata": {
      "needs_background": "light",
      "tags": []
     },
     "output_type": "display_data"
    }
   ],
   "source": [
    "plot_learning_curve(make_pipeline(PolynomialFeatures(2), LinearRegression()),\n",
    "                    X, y)"
   ]
  },
  {
   "cell_type": "code",
   "execution_count": null,
   "metadata": {
    "colab": {
     "base_uri": "https://localhost:8080/",
     "height": 290
    },
    "id": "_jj-aiSQnlqX",
    "outputId": "221cc58d-4ad6-459d-807e-9e9c96bd8302"
   },
   "outputs": [
    {
     "data": {
      "image/png": "[encoded data removed]",
      "text/plain": [
       "<Figure size 432x288 with 1 Axes>"
      ]
     },
     "metadata": {
      "needs_background": "light",
      "tags": []
     },
     "output_type": "display_data"
    }
   ],
   "source": [
    "plot_learning_curve(make_pipeline(Ridge(alpha=10)), \n",
    "                   X, y)"
   ]
  }
 ],
 "metadata": {
  "colab": {
   "name": "Introduction to Linear and Logistic",
   "provenance": []
  },
  "kernelspec": {
   "display_name": "Python 3",
   "language": "python",
   "name": "python3"
  },
  "language_info": {
   "codemirror_mode": {
    "name": "ipython",
    "version": 3
   },
   "file_extension": ".py",
   "mimetype": "text/x-python",
   "name": "python",
   "nbconvert_exporter": "python",
   "pygments_lexer": "ipython3",
   "version": "3.7.4"
  }
 },
 "nbformat": 4,
 "nbformat_minor": 1
}
